{
 "cells": [
  {
   "cell_type": "code",
   "execution_count": 1,
   "metadata": {},
   "outputs": [],
   "source": [
    "from IPython.core.interactiveshell import InteractiveShell\n",
    "InteractiveShell.ast_node_interactivity = \"all\""
   ]
  },
  {
   "cell_type": "code",
   "execution_count": 2,
   "metadata": {},
   "outputs": [],
   "source": [
    "import pandas as pd\n",
    "import numpy as np\n",
    "import matplotlib.pyplot as plt\n",
    "import seaborn as sns\n",
    "from IPython.display import Image\n",
    "%matplotlib inline\n",
    "\n",
    "import warnings\n",
    "warnings.filterwarnings('ignore')"
   ]
  },
  {
   "cell_type": "code",
   "execution_count": 3,
   "metadata": {},
   "outputs": [],
   "source": [
    "plt.rcParams['font.sans-serif'] = ['SimHei']#用来正常显示中文标签\n",
    "plt.rcParams['axes.unicode_minus'] = False  # 用来正常显示负号\n",
    "plt.rcParams['figure.figsize'] = (10, 6)  # 设置输出图片大小"
   ]
  },
  {
   "cell_type": "markdown",
   "metadata": {},
   "source": [
    "#### 上述小结\n",
    "1. `IPython`:一个python的交互式shell，比默认的python shell好用得多，支持变量自动补全，自动缩进，支持bash shell命令，内置了许多很有用的功能和函数。学习ipython将会让我们以一种更高的效率来使用python。同时它也是利用Python进行科学计算和交互可视化的一个最佳的平台。 \n",
    " - `%run`:运行脚本,`%run 路径+文件名称`。\n",
    " - `%timeit`测量代码运行时间。\n",
    " - `%%timeit`测量代码运行时间。\n",
    " - `%pwd`显示工作路径。\n",
    " - `%matplotlib inline`显示图像。\n",
    " - `%conda install pkgs`命令用于在IPython中安装python第三方库，例如`%conda install requests`\n",
    " - `%pylab`:交互式计算,可以使Numpy和Matplotlib中的科学计算功能生效，功能被称为基于向量和矩阵的搞笑操作，交互可视化特性，可以在控制台进行计算和动态绘图。\n",
    " - `%quickref`:用来查看IPython的特定语法和魔法命令参考。\n",
    " - `%ls`:命令可以用来显示特定目录下的内容。\n",
    "2. `plt.rcParams`：pylot使用rc配置文件来自定义图形的各种默认属性，称之为rc配置或rc参数。通过rc参数可以修改默认的属性，包括窗体大小、每英寸的点数、线条宽度、颜色、样式、坐标轴、坐标和网络属性、文本、字体等，一下为常用参数：\n",
    " - `plt.rcParams['lines.linestyle'] = '-'` 设置线条样式\n",
    " - `plt.rcParams['lines.linewidth'] = 3` 设置线条宽度\n",
    " - `plt.rcParams['font.sans-serif'] = ['SimHei']`用来正常显示中文标签\n",
    " - `plt.rcParams['axes.unicode_minus'] = False` 用来正常显示负号\n",
    " - `plt.rcParams['figure.figsize'] = (10, 6)`   设置输出图片大小"
   ]
  },
  {
   "cell_type": "markdown",
   "metadata": {},
   "source": [
    "### 3.1 前言\n",
    "在开始模型搭建和评估之前，先看一下这一章节给出的数据集，总共有两个：`\"train.csv\"`和`\"clear_data.csv\"`，前者属于比赛提供的数据集，后者是清洗过的数据集，先查看下对应的不同。"
   ]
  },
  {
   "cell_type": "code",
   "execution_count": 4,
   "metadata": {},
   "outputs": [],
   "source": [
    "train = pd.read_csv('train.csv')\n",
    "data = pd.read_csv('clear_data.csv')"
   ]
  },
  {
   "cell_type": "code",
   "execution_count": 5,
   "metadata": {},
   "outputs": [
    {
     "data": {
      "text/plain": [
       "(891, 12)"
      ]
     },
     "execution_count": 5,
     "metadata": {},
     "output_type": "execute_result"
    },
    {
     "data": {
      "text/plain": [
       "(891, 11)"
      ]
     },
     "execution_count": 5,
     "metadata": {},
     "output_type": "execute_result"
    }
   ],
   "source": [
    "train.shape\n",
    "data.shape"
   ]
  },
  {
   "cell_type": "code",
   "execution_count": 6,
   "metadata": {
    "scrolled": true
   },
   "outputs": [
    {
     "data": {
      "text/plain": [
       "Index(['PassengerId', 'Survived', 'Pclass', 'Name', 'Sex', 'Age', 'SibSp',\n",
       "       'Parch', 'Ticket', 'Fare', 'Cabin', 'Embarked'],\n",
       "      dtype='object')"
      ]
     },
     "execution_count": 6,
     "metadata": {},
     "output_type": "execute_result"
    },
    {
     "data": {
      "text/plain": [
       "Index(['PassengerId', 'Pclass', 'Age', 'SibSp', 'Parch', 'Fare', 'Sex_female',\n",
       "       'Sex_male', 'Embarked_C', 'Embarked_Q', 'Embarked_S'],\n",
       "      dtype='object')"
      ]
     },
     "execution_count": 6,
     "metadata": {},
     "output_type": "execute_result"
    }
   ],
   "source": [
    "### 查看列的变化\n",
    "train.columns\n",
    "data.columns"
   ]
  },
  {
   "cell_type": "code",
   "execution_count": 7,
   "metadata": {},
   "outputs": [
    {
     "data": {
      "text/html": [
       "<div>\n",
       "<style scoped>\n",
       "    .dataframe tbody tr th:only-of-type {\n",
       "        vertical-align: middle;\n",
       "    }\n",
       "\n",
       "    .dataframe tbody tr th {\n",
       "        vertical-align: top;\n",
       "    }\n",
       "\n",
       "    .dataframe thead th {\n",
       "        text-align: right;\n",
       "    }\n",
       "</style>\n",
       "<table border=\"1\" class=\"dataframe\">\n",
       "  <thead>\n",
       "    <tr style=\"text-align: right;\">\n",
       "      <th></th>\n",
       "      <th>PassengerId</th>\n",
       "      <th>Survived</th>\n",
       "      <th>Pclass</th>\n",
       "      <th>Name</th>\n",
       "      <th>Sex</th>\n",
       "      <th>Age</th>\n",
       "      <th>SibSp</th>\n",
       "      <th>Parch</th>\n",
       "      <th>Ticket</th>\n",
       "      <th>Fare</th>\n",
       "      <th>Cabin</th>\n",
       "      <th>Embarked</th>\n",
       "    </tr>\n",
       "  </thead>\n",
       "  <tbody>\n",
       "    <tr>\n",
       "      <th>0</th>\n",
       "      <td>1</td>\n",
       "      <td>0</td>\n",
       "      <td>3</td>\n",
       "      <td>Braund, Mr. Owen Harris</td>\n",
       "      <td>male</td>\n",
       "      <td>22.0</td>\n",
       "      <td>1</td>\n",
       "      <td>0</td>\n",
       "      <td>A/5 21171</td>\n",
       "      <td>7.2500</td>\n",
       "      <td>NaN</td>\n",
       "      <td>S</td>\n",
       "    </tr>\n",
       "    <tr>\n",
       "      <th>1</th>\n",
       "      <td>2</td>\n",
       "      <td>1</td>\n",
       "      <td>1</td>\n",
       "      <td>Cumings, Mrs. John Bradley (Florence Briggs Th...</td>\n",
       "      <td>female</td>\n",
       "      <td>38.0</td>\n",
       "      <td>1</td>\n",
       "      <td>0</td>\n",
       "      <td>PC 17599</td>\n",
       "      <td>71.2833</td>\n",
       "      <td>C85</td>\n",
       "      <td>C</td>\n",
       "    </tr>\n",
       "    <tr>\n",
       "      <th>2</th>\n",
       "      <td>3</td>\n",
       "      <td>1</td>\n",
       "      <td>3</td>\n",
       "      <td>Heikkinen, Miss. Laina</td>\n",
       "      <td>female</td>\n",
       "      <td>26.0</td>\n",
       "      <td>0</td>\n",
       "      <td>0</td>\n",
       "      <td>STON/O2. 3101282</td>\n",
       "      <td>7.9250</td>\n",
       "      <td>NaN</td>\n",
       "      <td>S</td>\n",
       "    </tr>\n",
       "    <tr>\n",
       "      <th>3</th>\n",
       "      <td>4</td>\n",
       "      <td>1</td>\n",
       "      <td>1</td>\n",
       "      <td>Futrelle, Mrs. Jacques Heath (Lily May Peel)</td>\n",
       "      <td>female</td>\n",
       "      <td>35.0</td>\n",
       "      <td>1</td>\n",
       "      <td>0</td>\n",
       "      <td>113803</td>\n",
       "      <td>53.1000</td>\n",
       "      <td>C123</td>\n",
       "      <td>S</td>\n",
       "    </tr>\n",
       "    <tr>\n",
       "      <th>4</th>\n",
       "      <td>5</td>\n",
       "      <td>0</td>\n",
       "      <td>3</td>\n",
       "      <td>Allen, Mr. William Henry</td>\n",
       "      <td>male</td>\n",
       "      <td>35.0</td>\n",
       "      <td>0</td>\n",
       "      <td>0</td>\n",
       "      <td>373450</td>\n",
       "      <td>8.0500</td>\n",
       "      <td>NaN</td>\n",
       "      <td>S</td>\n",
       "    </tr>\n",
       "    <tr>\n",
       "      <th>886</th>\n",
       "      <td>887</td>\n",
       "      <td>0</td>\n",
       "      <td>2</td>\n",
       "      <td>Montvila, Rev. Juozas</td>\n",
       "      <td>male</td>\n",
       "      <td>27.0</td>\n",
       "      <td>0</td>\n",
       "      <td>0</td>\n",
       "      <td>211536</td>\n",
       "      <td>13.0000</td>\n",
       "      <td>NaN</td>\n",
       "      <td>S</td>\n",
       "    </tr>\n",
       "    <tr>\n",
       "      <th>887</th>\n",
       "      <td>888</td>\n",
       "      <td>1</td>\n",
       "      <td>1</td>\n",
       "      <td>Graham, Miss. Margaret Edith</td>\n",
       "      <td>female</td>\n",
       "      <td>19.0</td>\n",
       "      <td>0</td>\n",
       "      <td>0</td>\n",
       "      <td>112053</td>\n",
       "      <td>30.0000</td>\n",
       "      <td>B42</td>\n",
       "      <td>S</td>\n",
       "    </tr>\n",
       "    <tr>\n",
       "      <th>888</th>\n",
       "      <td>889</td>\n",
       "      <td>0</td>\n",
       "      <td>3</td>\n",
       "      <td>Johnston, Miss. Catherine Helen \"Carrie\"</td>\n",
       "      <td>female</td>\n",
       "      <td>NaN</td>\n",
       "      <td>1</td>\n",
       "      <td>2</td>\n",
       "      <td>W./C. 6607</td>\n",
       "      <td>23.4500</td>\n",
       "      <td>NaN</td>\n",
       "      <td>S</td>\n",
       "    </tr>\n",
       "    <tr>\n",
       "      <th>889</th>\n",
       "      <td>890</td>\n",
       "      <td>1</td>\n",
       "      <td>1</td>\n",
       "      <td>Behr, Mr. Karl Howell</td>\n",
       "      <td>male</td>\n",
       "      <td>26.0</td>\n",
       "      <td>0</td>\n",
       "      <td>0</td>\n",
       "      <td>111369</td>\n",
       "      <td>30.0000</td>\n",
       "      <td>C148</td>\n",
       "      <td>C</td>\n",
       "    </tr>\n",
       "    <tr>\n",
       "      <th>890</th>\n",
       "      <td>891</td>\n",
       "      <td>0</td>\n",
       "      <td>3</td>\n",
       "      <td>Dooley, Mr. Patrick</td>\n",
       "      <td>male</td>\n",
       "      <td>32.0</td>\n",
       "      <td>0</td>\n",
       "      <td>0</td>\n",
       "      <td>370376</td>\n",
       "      <td>7.7500</td>\n",
       "      <td>NaN</td>\n",
       "      <td>Q</td>\n",
       "    </tr>\n",
       "  </tbody>\n",
       "</table>\n",
       "</div>"
      ],
      "text/plain": [
       "     PassengerId  Survived  Pclass  \\\n",
       "0              1         0       3   \n",
       "1              2         1       1   \n",
       "2              3         1       3   \n",
       "3              4         1       1   \n",
       "4              5         0       3   \n",
       "886          887         0       2   \n",
       "887          888         1       1   \n",
       "888          889         0       3   \n",
       "889          890         1       1   \n",
       "890          891         0       3   \n",
       "\n",
       "                                                  Name     Sex   Age  SibSp  \\\n",
       "0                              Braund, Mr. Owen Harris    male  22.0      1   \n",
       "1    Cumings, Mrs. John Bradley (Florence Briggs Th...  female  38.0      1   \n",
       "2                               Heikkinen, Miss. Laina  female  26.0      0   \n",
       "3         Futrelle, Mrs. Jacques Heath (Lily May Peel)  female  35.0      1   \n",
       "4                             Allen, Mr. William Henry    male  35.0      0   \n",
       "886                              Montvila, Rev. Juozas    male  27.0      0   \n",
       "887                       Graham, Miss. Margaret Edith  female  19.0      0   \n",
       "888           Johnston, Miss. Catherine Helen \"Carrie\"  female   NaN      1   \n",
       "889                              Behr, Mr. Karl Howell    male  26.0      0   \n",
       "890                                Dooley, Mr. Patrick    male  32.0      0   \n",
       "\n",
       "     Parch            Ticket     Fare Cabin Embarked  \n",
       "0        0         A/5 21171   7.2500   NaN        S  \n",
       "1        0          PC 17599  71.2833   C85        C  \n",
       "2        0  STON/O2. 3101282   7.9250   NaN        S  \n",
       "3        0            113803  53.1000  C123        S  \n",
       "4        0            373450   8.0500   NaN        S  \n",
       "886      0            211536  13.0000   NaN        S  \n",
       "887      0            112053  30.0000   B42        S  \n",
       "888      2        W./C. 6607  23.4500   NaN        S  \n",
       "889      0            111369  30.0000  C148        C  \n",
       "890      0            370376   7.7500   NaN        Q  "
      ]
     },
     "execution_count": 7,
     "metadata": {},
     "output_type": "execute_result"
    },
    {
     "data": {
      "text/html": [
       "<div>\n",
       "<style scoped>\n",
       "    .dataframe tbody tr th:only-of-type {\n",
       "        vertical-align: middle;\n",
       "    }\n",
       "\n",
       "    .dataframe tbody tr th {\n",
       "        vertical-align: top;\n",
       "    }\n",
       "\n",
       "    .dataframe thead th {\n",
       "        text-align: right;\n",
       "    }\n",
       "</style>\n",
       "<table border=\"1\" class=\"dataframe\">\n",
       "  <thead>\n",
       "    <tr style=\"text-align: right;\">\n",
       "      <th></th>\n",
       "      <th>PassengerId</th>\n",
       "      <th>Pclass</th>\n",
       "      <th>Age</th>\n",
       "      <th>SibSp</th>\n",
       "      <th>Parch</th>\n",
       "      <th>Fare</th>\n",
       "      <th>Sex_female</th>\n",
       "      <th>Sex_male</th>\n",
       "      <th>Embarked_C</th>\n",
       "      <th>Embarked_Q</th>\n",
       "      <th>Embarked_S</th>\n",
       "    </tr>\n",
       "  </thead>\n",
       "  <tbody>\n",
       "    <tr>\n",
       "      <th>0</th>\n",
       "      <td>0</td>\n",
       "      <td>3</td>\n",
       "      <td>22.000000</td>\n",
       "      <td>1</td>\n",
       "      <td>0</td>\n",
       "      <td>7.2500</td>\n",
       "      <td>0</td>\n",
       "      <td>1</td>\n",
       "      <td>0</td>\n",
       "      <td>0</td>\n",
       "      <td>1</td>\n",
       "    </tr>\n",
       "    <tr>\n",
       "      <th>1</th>\n",
       "      <td>1</td>\n",
       "      <td>1</td>\n",
       "      <td>38.000000</td>\n",
       "      <td>1</td>\n",
       "      <td>0</td>\n",
       "      <td>71.2833</td>\n",
       "      <td>1</td>\n",
       "      <td>0</td>\n",
       "      <td>1</td>\n",
       "      <td>0</td>\n",
       "      <td>0</td>\n",
       "    </tr>\n",
       "    <tr>\n",
       "      <th>2</th>\n",
       "      <td>2</td>\n",
       "      <td>3</td>\n",
       "      <td>26.000000</td>\n",
       "      <td>0</td>\n",
       "      <td>0</td>\n",
       "      <td>7.9250</td>\n",
       "      <td>1</td>\n",
       "      <td>0</td>\n",
       "      <td>0</td>\n",
       "      <td>0</td>\n",
       "      <td>1</td>\n",
       "    </tr>\n",
       "    <tr>\n",
       "      <th>3</th>\n",
       "      <td>3</td>\n",
       "      <td>1</td>\n",
       "      <td>35.000000</td>\n",
       "      <td>1</td>\n",
       "      <td>0</td>\n",
       "      <td>53.1000</td>\n",
       "      <td>1</td>\n",
       "      <td>0</td>\n",
       "      <td>0</td>\n",
       "      <td>0</td>\n",
       "      <td>1</td>\n",
       "    </tr>\n",
       "    <tr>\n",
       "      <th>4</th>\n",
       "      <td>4</td>\n",
       "      <td>3</td>\n",
       "      <td>35.000000</td>\n",
       "      <td>0</td>\n",
       "      <td>0</td>\n",
       "      <td>8.0500</td>\n",
       "      <td>0</td>\n",
       "      <td>1</td>\n",
       "      <td>0</td>\n",
       "      <td>0</td>\n",
       "      <td>1</td>\n",
       "    </tr>\n",
       "    <tr>\n",
       "      <th>886</th>\n",
       "      <td>886</td>\n",
       "      <td>2</td>\n",
       "      <td>27.000000</td>\n",
       "      <td>0</td>\n",
       "      <td>0</td>\n",
       "      <td>13.0000</td>\n",
       "      <td>0</td>\n",
       "      <td>1</td>\n",
       "      <td>0</td>\n",
       "      <td>0</td>\n",
       "      <td>1</td>\n",
       "    </tr>\n",
       "    <tr>\n",
       "      <th>887</th>\n",
       "      <td>887</td>\n",
       "      <td>1</td>\n",
       "      <td>19.000000</td>\n",
       "      <td>0</td>\n",
       "      <td>0</td>\n",
       "      <td>30.0000</td>\n",
       "      <td>1</td>\n",
       "      <td>0</td>\n",
       "      <td>0</td>\n",
       "      <td>0</td>\n",
       "      <td>1</td>\n",
       "    </tr>\n",
       "    <tr>\n",
       "      <th>888</th>\n",
       "      <td>888</td>\n",
       "      <td>3</td>\n",
       "      <td>29.699118</td>\n",
       "      <td>1</td>\n",
       "      <td>2</td>\n",
       "      <td>23.4500</td>\n",
       "      <td>1</td>\n",
       "      <td>0</td>\n",
       "      <td>0</td>\n",
       "      <td>0</td>\n",
       "      <td>1</td>\n",
       "    </tr>\n",
       "    <tr>\n",
       "      <th>889</th>\n",
       "      <td>889</td>\n",
       "      <td>1</td>\n",
       "      <td>26.000000</td>\n",
       "      <td>0</td>\n",
       "      <td>0</td>\n",
       "      <td>30.0000</td>\n",
       "      <td>0</td>\n",
       "      <td>1</td>\n",
       "      <td>1</td>\n",
       "      <td>0</td>\n",
       "      <td>0</td>\n",
       "    </tr>\n",
       "    <tr>\n",
       "      <th>890</th>\n",
       "      <td>890</td>\n",
       "      <td>3</td>\n",
       "      <td>32.000000</td>\n",
       "      <td>0</td>\n",
       "      <td>0</td>\n",
       "      <td>7.7500</td>\n",
       "      <td>0</td>\n",
       "      <td>1</td>\n",
       "      <td>0</td>\n",
       "      <td>1</td>\n",
       "      <td>0</td>\n",
       "    </tr>\n",
       "  </tbody>\n",
       "</table>\n",
       "</div>"
      ],
      "text/plain": [
       "     PassengerId  Pclass        Age  SibSp  Parch     Fare  Sex_female  \\\n",
       "0              0       3  22.000000      1      0   7.2500           0   \n",
       "1              1       1  38.000000      1      0  71.2833           1   \n",
       "2              2       3  26.000000      0      0   7.9250           1   \n",
       "3              3       1  35.000000      1      0  53.1000           1   \n",
       "4              4       3  35.000000      0      0   8.0500           0   \n",
       "886          886       2  27.000000      0      0  13.0000           0   \n",
       "887          887       1  19.000000      0      0  30.0000           1   \n",
       "888          888       3  29.699118      1      2  23.4500           1   \n",
       "889          889       1  26.000000      0      0  30.0000           0   \n",
       "890          890       3  32.000000      0      0   7.7500           0   \n",
       "\n",
       "     Sex_male  Embarked_C  Embarked_Q  Embarked_S  \n",
       "0           1           0           0           1  \n",
       "1           0           1           0           0  \n",
       "2           0           0           0           1  \n",
       "3           0           0           0           1  \n",
       "4           1           0           0           1  \n",
       "886         1           0           0           1  \n",
       "887         0           0           0           1  \n",
       "888         0           0           0           1  \n",
       "889         1           1           0           0  \n",
       "890         1           0           1           0  "
      ]
     },
     "execution_count": 7,
     "metadata": {},
     "output_type": "execute_result"
    }
   ],
   "source": [
    "train.head().append(train.tail())\n",
    "data.head().append(data.tail())"
   ]
  },
  {
   "cell_type": "code",
   "execution_count": 8,
   "metadata": {},
   "outputs": [
    {
     "name": "stdout",
     "output_type": "stream",
     "text": [
      "<class 'pandas.core.frame.DataFrame'>\n",
      "RangeIndex: 891 entries, 0 to 890\n",
      "Data columns (total 12 columns):\n",
      " #   Column       Non-Null Count  Dtype  \n",
      "---  ------       --------------  -----  \n",
      " 0   PassengerId  891 non-null    int64  \n",
      " 1   Survived     891 non-null    int64  \n",
      " 2   Pclass       891 non-null    int64  \n",
      " 3   Name         891 non-null    object \n",
      " 4   Sex          891 non-null    object \n",
      " 5   Age          714 non-null    float64\n",
      " 6   SibSp        891 non-null    int64  \n",
      " 7   Parch        891 non-null    int64  \n",
      " 8   Ticket       891 non-null    object \n",
      " 9   Fare         891 non-null    float64\n",
      " 10  Cabin        204 non-null    object \n",
      " 11  Embarked     889 non-null    object \n",
      "dtypes: float64(2), int64(5), object(5)\n",
      "memory usage: 83.7+ KB\n",
      "<class 'pandas.core.frame.DataFrame'>\n",
      "RangeIndex: 891 entries, 0 to 890\n",
      "Data columns (total 11 columns):\n",
      " #   Column       Non-Null Count  Dtype  \n",
      "---  ------       --------------  -----  \n",
      " 0   PassengerId  891 non-null    int64  \n",
      " 1   Pclass       891 non-null    int64  \n",
      " 2   Age          891 non-null    float64\n",
      " 3   SibSp        891 non-null    int64  \n",
      " 4   Parch        891 non-null    int64  \n",
      " 5   Fare         891 non-null    float64\n",
      " 6   Sex_female   891 non-null    int64  \n",
      " 7   Sex_male     891 non-null    int64  \n",
      " 8   Embarked_C   891 non-null    int64  \n",
      " 9   Embarked_Q   891 non-null    int64  \n",
      " 10  Embarked_S   891 non-null    int64  \n",
      "dtypes: float64(2), int64(9)\n",
      "memory usage: 76.7 KB\n"
     ]
    }
   ],
   "source": [
    "### 查看各数据集的类型及缺失值数目\n",
    "train.info()\n",
    "data.info()"
   ]
  },
  {
   "cell_type": "code",
   "execution_count": 9,
   "metadata": {},
   "outputs": [
    {
     "data": {
      "text/plain": [
       "{29.69911764705882}"
      ]
     },
     "execution_count": 9,
     "metadata": {},
     "output_type": "execute_result"
    },
    {
     "data": {
      "text/plain": [
       "29.69911764705882"
      ]
     },
     "execution_count": 9,
     "metadata": {},
     "output_type": "execute_result"
    }
   ],
   "source": [
    "### 查看Age的特征值分布以及处理后的不同\n",
    "age_t = train['Age'].unique()\n",
    "age_d = data['Age'].unique()\n",
    "\n",
    "clean_age_change = set(age_d).difference(set(age_t))\n",
    "clean_age_change\n",
    "\n",
    "###确定是否为均值\n",
    "train['Age'].mean()"
   ]
  },
  {
   "cell_type": "markdown",
   "metadata": {},
   "source": [
    "#### 小结\n",
    "1. 清洗后的文件（clea_data.csv）将'Survived'、'Name'、'Ticket'和'Cabin'已删除，因为真的没什么用即\n",
    "\n",
    "`train = train.drop(['Name'],axis=1)`\n",
    "2. 'Sex'和 'Embarked'进行了`one-hot`的文本转换，即\n",
    "\n",
    "`train = pd.get_dummies(train)`\n",
    "2. 根据两者的类型即数量对比可以看出，'Age'的缺失值已被填充，经过处理发现'Age'的填充项为均值，即\n",
    "\n",
    "`train['Age']=train['Age'].fillna(train['Age'].mean())`。\n",
    "3. 上述为简易的特征工程处理，`clean_data.csv`是已做过的特征处理的数据集。\n",
    "4. 关于'Age'的填充补充两点，一般而言为了方便计算会用均值代替，也可以根据分组填充，查看缺失值的其他信息来分组，例如结合姓名和性别等作出推断，当然对于部分模型例如LGBM不需要填充缺失值。另外，对于填充缺失值忌讳“过拟合”的填充。"
   ]
  },
  {
   "cell_type": "code",
   "execution_count": 10,
   "metadata": {},
   "outputs": [
    {
     "data": {
      "text/html": [
       "<div>\n",
       "<style scoped>\n",
       "    .dataframe tbody tr th:only-of-type {\n",
       "        vertical-align: middle;\n",
       "    }\n",
       "\n",
       "    .dataframe tbody tr th {\n",
       "        vertical-align: top;\n",
       "    }\n",
       "\n",
       "    .dataframe thead th {\n",
       "        text-align: right;\n",
       "    }\n",
       "</style>\n",
       "<table border=\"1\" class=\"dataframe\">\n",
       "  <thead>\n",
       "    <tr style=\"text-align: right;\">\n",
       "      <th></th>\n",
       "      <th>PassengerId</th>\n",
       "      <th>Survived</th>\n",
       "      <th>Pclass</th>\n",
       "      <th>Age</th>\n",
       "      <th>SibSp</th>\n",
       "      <th>Parch</th>\n",
       "      <th>Fare</th>\n",
       "    </tr>\n",
       "  </thead>\n",
       "  <tbody>\n",
       "    <tr>\n",
       "      <th>count</th>\n",
       "      <td>891.000000</td>\n",
       "      <td>891.000000</td>\n",
       "      <td>891.000000</td>\n",
       "      <td>714.000000</td>\n",
       "      <td>891.000000</td>\n",
       "      <td>891.000000</td>\n",
       "      <td>891.000000</td>\n",
       "    </tr>\n",
       "    <tr>\n",
       "      <th>mean</th>\n",
       "      <td>446.000000</td>\n",
       "      <td>0.383838</td>\n",
       "      <td>2.308642</td>\n",
       "      <td>29.699118</td>\n",
       "      <td>0.523008</td>\n",
       "      <td>0.381594</td>\n",
       "      <td>32.204208</td>\n",
       "    </tr>\n",
       "    <tr>\n",
       "      <th>std</th>\n",
       "      <td>257.353842</td>\n",
       "      <td>0.486592</td>\n",
       "      <td>0.836071</td>\n",
       "      <td>14.526497</td>\n",
       "      <td>1.102743</td>\n",
       "      <td>0.806057</td>\n",
       "      <td>49.693429</td>\n",
       "    </tr>\n",
       "    <tr>\n",
       "      <th>min</th>\n",
       "      <td>1.000000</td>\n",
       "      <td>0.000000</td>\n",
       "      <td>1.000000</td>\n",
       "      <td>0.420000</td>\n",
       "      <td>0.000000</td>\n",
       "      <td>0.000000</td>\n",
       "      <td>0.000000</td>\n",
       "    </tr>\n",
       "    <tr>\n",
       "      <th>25%</th>\n",
       "      <td>223.500000</td>\n",
       "      <td>0.000000</td>\n",
       "      <td>2.000000</td>\n",
       "      <td>20.125000</td>\n",
       "      <td>0.000000</td>\n",
       "      <td>0.000000</td>\n",
       "      <td>7.910400</td>\n",
       "    </tr>\n",
       "    <tr>\n",
       "      <th>50%</th>\n",
       "      <td>446.000000</td>\n",
       "      <td>0.000000</td>\n",
       "      <td>3.000000</td>\n",
       "      <td>28.000000</td>\n",
       "      <td>0.000000</td>\n",
       "      <td>0.000000</td>\n",
       "      <td>14.454200</td>\n",
       "    </tr>\n",
       "    <tr>\n",
       "      <th>75%</th>\n",
       "      <td>668.500000</td>\n",
       "      <td>1.000000</td>\n",
       "      <td>3.000000</td>\n",
       "      <td>38.000000</td>\n",
       "      <td>1.000000</td>\n",
       "      <td>0.000000</td>\n",
       "      <td>31.000000</td>\n",
       "    </tr>\n",
       "    <tr>\n",
       "      <th>max</th>\n",
       "      <td>891.000000</td>\n",
       "      <td>1.000000</td>\n",
       "      <td>3.000000</td>\n",
       "      <td>80.000000</td>\n",
       "      <td>8.000000</td>\n",
       "      <td>6.000000</td>\n",
       "      <td>512.329200</td>\n",
       "    </tr>\n",
       "  </tbody>\n",
       "</table>\n",
       "</div>"
      ],
      "text/plain": [
       "       PassengerId    Survived      Pclass         Age       SibSp  \\\n",
       "count   891.000000  891.000000  891.000000  714.000000  891.000000   \n",
       "mean    446.000000    0.383838    2.308642   29.699118    0.523008   \n",
       "std     257.353842    0.486592    0.836071   14.526497    1.102743   \n",
       "min       1.000000    0.000000    1.000000    0.420000    0.000000   \n",
       "25%     223.500000    0.000000    2.000000   20.125000    0.000000   \n",
       "50%     446.000000    0.000000    3.000000   28.000000    0.000000   \n",
       "75%     668.500000    1.000000    3.000000   38.000000    1.000000   \n",
       "max     891.000000    1.000000    3.000000   80.000000    8.000000   \n",
       "\n",
       "            Parch        Fare  \n",
       "count  891.000000  891.000000  \n",
       "mean     0.381594   32.204208  \n",
       "std      0.806057   49.693429  \n",
       "min      0.000000    0.000000  \n",
       "25%      0.000000    7.910400  \n",
       "50%      0.000000   14.454200  \n",
       "75%      0.000000   31.000000  \n",
       "max      6.000000  512.329200  "
      ]
     },
     "execution_count": 10,
     "metadata": {},
     "output_type": "execute_result"
    },
    {
     "data": {
      "text/html": [
       "<div>\n",
       "<style scoped>\n",
       "    .dataframe tbody tr th:only-of-type {\n",
       "        vertical-align: middle;\n",
       "    }\n",
       "\n",
       "    .dataframe tbody tr th {\n",
       "        vertical-align: top;\n",
       "    }\n",
       "\n",
       "    .dataframe thead th {\n",
       "        text-align: right;\n",
       "    }\n",
       "</style>\n",
       "<table border=\"1\" class=\"dataframe\">\n",
       "  <thead>\n",
       "    <tr style=\"text-align: right;\">\n",
       "      <th></th>\n",
       "      <th>PassengerId</th>\n",
       "      <th>Pclass</th>\n",
       "      <th>Age</th>\n",
       "      <th>SibSp</th>\n",
       "      <th>Parch</th>\n",
       "      <th>Fare</th>\n",
       "      <th>Sex_female</th>\n",
       "      <th>Sex_male</th>\n",
       "      <th>Embarked_C</th>\n",
       "      <th>Embarked_Q</th>\n",
       "      <th>Embarked_S</th>\n",
       "    </tr>\n",
       "  </thead>\n",
       "  <tbody>\n",
       "    <tr>\n",
       "      <th>count</th>\n",
       "      <td>891.000000</td>\n",
       "      <td>891.000000</td>\n",
       "      <td>891.000000</td>\n",
       "      <td>891.000000</td>\n",
       "      <td>891.000000</td>\n",
       "      <td>891.000000</td>\n",
       "      <td>891.000000</td>\n",
       "      <td>891.000000</td>\n",
       "      <td>891.000000</td>\n",
       "      <td>891.000000</td>\n",
       "      <td>891.000000</td>\n",
       "    </tr>\n",
       "    <tr>\n",
       "      <th>mean</th>\n",
       "      <td>445.000000</td>\n",
       "      <td>2.308642</td>\n",
       "      <td>29.699118</td>\n",
       "      <td>0.523008</td>\n",
       "      <td>0.381594</td>\n",
       "      <td>32.204208</td>\n",
       "      <td>0.352413</td>\n",
       "      <td>0.647587</td>\n",
       "      <td>0.188552</td>\n",
       "      <td>0.086420</td>\n",
       "      <td>0.725028</td>\n",
       "    </tr>\n",
       "    <tr>\n",
       "      <th>std</th>\n",
       "      <td>257.353842</td>\n",
       "      <td>0.836071</td>\n",
       "      <td>13.002015</td>\n",
       "      <td>1.102743</td>\n",
       "      <td>0.806057</td>\n",
       "      <td>49.693429</td>\n",
       "      <td>0.477990</td>\n",
       "      <td>0.477990</td>\n",
       "      <td>0.391372</td>\n",
       "      <td>0.281141</td>\n",
       "      <td>0.446751</td>\n",
       "    </tr>\n",
       "    <tr>\n",
       "      <th>min</th>\n",
       "      <td>0.000000</td>\n",
       "      <td>1.000000</td>\n",
       "      <td>0.420000</td>\n",
       "      <td>0.000000</td>\n",
       "      <td>0.000000</td>\n",
       "      <td>0.000000</td>\n",
       "      <td>0.000000</td>\n",
       "      <td>0.000000</td>\n",
       "      <td>0.000000</td>\n",
       "      <td>0.000000</td>\n",
       "      <td>0.000000</td>\n",
       "    </tr>\n",
       "    <tr>\n",
       "      <th>25%</th>\n",
       "      <td>222.500000</td>\n",
       "      <td>2.000000</td>\n",
       "      <td>22.000000</td>\n",
       "      <td>0.000000</td>\n",
       "      <td>0.000000</td>\n",
       "      <td>7.910400</td>\n",
       "      <td>0.000000</td>\n",
       "      <td>0.000000</td>\n",
       "      <td>0.000000</td>\n",
       "      <td>0.000000</td>\n",
       "      <td>0.000000</td>\n",
       "    </tr>\n",
       "    <tr>\n",
       "      <th>50%</th>\n",
       "      <td>445.000000</td>\n",
       "      <td>3.000000</td>\n",
       "      <td>29.699118</td>\n",
       "      <td>0.000000</td>\n",
       "      <td>0.000000</td>\n",
       "      <td>14.454200</td>\n",
       "      <td>0.000000</td>\n",
       "      <td>1.000000</td>\n",
       "      <td>0.000000</td>\n",
       "      <td>0.000000</td>\n",
       "      <td>1.000000</td>\n",
       "    </tr>\n",
       "    <tr>\n",
       "      <th>75%</th>\n",
       "      <td>667.500000</td>\n",
       "      <td>3.000000</td>\n",
       "      <td>35.000000</td>\n",
       "      <td>1.000000</td>\n",
       "      <td>0.000000</td>\n",
       "      <td>31.000000</td>\n",
       "      <td>1.000000</td>\n",
       "      <td>1.000000</td>\n",
       "      <td>0.000000</td>\n",
       "      <td>0.000000</td>\n",
       "      <td>1.000000</td>\n",
       "    </tr>\n",
       "    <tr>\n",
       "      <th>max</th>\n",
       "      <td>890.000000</td>\n",
       "      <td>3.000000</td>\n",
       "      <td>80.000000</td>\n",
       "      <td>8.000000</td>\n",
       "      <td>6.000000</td>\n",
       "      <td>512.329200</td>\n",
       "      <td>1.000000</td>\n",
       "      <td>1.000000</td>\n",
       "      <td>1.000000</td>\n",
       "      <td>1.000000</td>\n",
       "      <td>1.000000</td>\n",
       "    </tr>\n",
       "  </tbody>\n",
       "</table>\n",
       "</div>"
      ],
      "text/plain": [
       "       PassengerId      Pclass         Age       SibSp       Parch  \\\n",
       "count   891.000000  891.000000  891.000000  891.000000  891.000000   \n",
       "mean    445.000000    2.308642   29.699118    0.523008    0.381594   \n",
       "std     257.353842    0.836071   13.002015    1.102743    0.806057   \n",
       "min       0.000000    1.000000    0.420000    0.000000    0.000000   \n",
       "25%     222.500000    2.000000   22.000000    0.000000    0.000000   \n",
       "50%     445.000000    3.000000   29.699118    0.000000    0.000000   \n",
       "75%     667.500000    3.000000   35.000000    1.000000    0.000000   \n",
       "max     890.000000    3.000000   80.000000    8.000000    6.000000   \n",
       "\n",
       "             Fare  Sex_female    Sex_male  Embarked_C  Embarked_Q  Embarked_S  \n",
       "count  891.000000  891.000000  891.000000  891.000000  891.000000  891.000000  \n",
       "mean    32.204208    0.352413    0.647587    0.188552    0.086420    0.725028  \n",
       "std     49.693429    0.477990    0.477990    0.391372    0.281141    0.446751  \n",
       "min      0.000000    0.000000    0.000000    0.000000    0.000000    0.000000  \n",
       "25%      7.910400    0.000000    0.000000    0.000000    0.000000    0.000000  \n",
       "50%     14.454200    0.000000    1.000000    0.000000    0.000000    1.000000  \n",
       "75%     31.000000    1.000000    1.000000    0.000000    0.000000    1.000000  \n",
       "max    512.329200    1.000000    1.000000    1.000000    1.000000    1.000000  "
      ]
     },
     "execution_count": 10,
     "metadata": {},
     "output_type": "execute_result"
    }
   ],
   "source": [
    "### 还是看一下数据统计\n",
    "train.describe()\n",
    "data.describe(include=\"all\")"
   ]
  },
  {
   "cell_type": "markdown",
   "metadata": {},
   "source": [
    "### 3.2 数据挖掘简介\n",
    "数据挖掘是基于业务问题的解决，在对数据进行分析探索之前，一定要先对业务进行基本的了解与分析，知道**要解决什么问题，如何才是解决好了问题，通过什么解决问题**，进而知道**如何解决问题**。\n",
    "\n",
    "在进行学习器应用之前，必须对数据和业务有一定的精确了解，最好是走一遍流程，才能选择合适的学习算法，提高精准度和泛化能力。所以数据挖掘的开始，不必急于学习器的代入或直接特征工程，可以先**对业务进行了解分析**，了解问题和解决目标；**过一遍Baseline**，对整个业务进行全面了解；进而**对已有的数据进行初步的探索分析**，深入了解数据后，可以选择合适的方法去解决问题。\n",
    "\n",
    "**要解决什么问题-业务目的**\n",
    "\n",
    "本题的目的是完成泰坦尼克号存活预测的任务，对有限的数据集找到合适的预测模型。鉴于本题的数据集非常小，此次以代入模型尝试为主。\n",
    "\n",
    "**如何才是解决好了问题-评判指标**\n",
    "\n",
    "问题的评判指标才是决定是否解决好了问题，但现实情况的业务其指标都是要通过自身的理解去创造。\n",
    "\n",
    "**通过什么解决问题-模型建立与预测**\n",
    "\n",
    "这就是业务指标分析，数据探索，特征工程之后的要做的建模预测，及评估效果。\n",
    "\n",
    "**本题：主要应用于监督性二分类算法。**"
   ]
  },
  {
   "cell_type": "markdown",
   "metadata": {},
   "source": [
    "### 3.3 常见评估指标：\n",
    "- 评估指标\n",
    " - 评估指标是对于一个模型效果的数值型量化，类似于针对模型效果距离理想效果的分数，高则近，低则远。\n",
    "- 常见分类和回归的评价指标形式：\n",
    "\n",
    " *分类算法常见评估指标*\n",
    " - 二分类器/分类算法，评价指标主要有`accuracy`,`[Precssion, Recall, F-score,Pr曲线]`，`ROC-AUC曲线`\n",
    " - 多分类器/分类算法，评价指标主要有`accuracy`,`[宏平均和微平均，F-score]`\n",
    " \n",
    " *回归算法常见评估指标*\n",
    " - `平均绝对误差（MAE）`，`均方误差（MSE）`,`平均绝对百分误差（MAPE）`，`均方根误差（RMSE）`，`R2（R-square）`\n",
    " \n",
    " \n",
    "- 赛制指标分析\n",
    " - 本题的评估指标从业务角度分析，拆分为申购和赎回两部分，每部分是每日的相对误差与真实之比，汇总后得到总的评估分数。其实际评估数值含义等价于平均绝对百分误差（MAPE）。\n",
    " - 最后的评判指标（积分）权重占比分别为，申购45%，赎回55%，权重有侧重。\n",
    " \n",
    "- scikit-learn常见衡量指标\n",
    "\n",
    "均方误差(MSE)：`from sklearn.metrics import mean_squared_error`\n",
    "\n",
    "平均绝对误差(MAE)：`from sklearn.metrics import mean_absolute_error`\n",
    "\n",
    "平均绝对相对误差：\n",
    "\n",
    "`import numpy as np\n",
    "np.mean(y_test - y_predict)/y_test`"
   ]
  },
  {
   "cell_type": "markdown",
   "metadata": {},
   "source": [
    "### 3.3.1 评估指标的含义\n",
    "\n",
    "#### 分类指标含义\n",
    "\n",
    "- TP（True Positive）：预测结果和真实结果均为正例\n",
    "- TN（True Negative）：预测结果和真实结果均为反例\n",
    "- FP（False Positive）：把假例预测为正例\n",
    "- FN（False Negative）：把正例预测为假例\n",
    "\n",
    "**精准率/查准率：**被分类器判定正例中正样本的比重\n",
    "\n",
    "$precision_{k} = \\frac{TP}{TP + FP}$\n",
    "\n",
    "**召回率/查全率：**被预测为正例占总的正例的比重\n",
    "\n",
    "$precision_{k} = \\frac{TP}{TP + FN}$\n",
    "\n",
    "**准确率：**分类器对整个样本判断正确的比重\n",
    "\n",
    "$accuracy = \\frac{TP+TN}{TP + TN + FP + FN}$\n",
    "\n",
    "**f1-score**\n",
    "\n",
    "$f1_{k}=\\frac{2*precision_{k}*recall_{k}}{precision_{k} + recall_{k}}$\n",
    "\n",
    "$score=({\\frac{1}{n}\\sum f1_{k}})^2$"
   ]
  },
  {
   "cell_type": "markdown",
   "metadata": {},
   "source": [
    "#### 回归指标含义\n",
    "**均方误差MSE：**应用于线性回归损失函数，易理解。\n",
    "\n",
    "$MSE = \\frac{1}{m}\\sum_{i=1}^{m}(y_{i}-\\hat{y_{i}})^2$\n",
    "\n",
    "**均方根误差RMSE：**与MSE实质一样，更易于数据的描述，且平滑可微。\n",
    "\n",
    "$RMSE = \\sqrt{\\frac{1}{m}\\sum_{i=1}^{m}(y_{i}-\\hat{y_{i}})^2}$\n",
    "\n",
    "**平均绝对误差MAE：**预测值与真实值之间绝对误差的均值，惩罚度低于前两者。\n",
    "\n",
    "$MAE = \\frac{1}{m}\\sum_{i=1}^{m} \\left |y_{i}-\\hat{y_{i}}\\right |$\n",
    "\n",
    "**平均绝对百分误差MAE：**应用于每次与真实值的距离计算，相比适用于本题。\n",
    "\n",
    "$MAPE = \\sum_{i=1}^{m} \\left |y_{i}-\\hat{y_{i}}\\right |\\frac{100}{m}$\n",
    "\n",
    "**R-square:**线性回归的评估标准。\n",
    "\n",
    "SSE（残差平方和）\n",
    "\n",
    "SSR（回归平方和）\n",
    "\n",
    "SST（总平方和）\n",
    "\n",
    "$SSE =  \\sum_{i=1}^{n} \\omega _{i}(y_{i}-\\hat{y_{i}})$\n",
    "\n",
    "$SSR =  \\sum_{i=1}^{n} \\omega _{i}(\\hat{y_{i}}-\\bar{y_{i}})$\n",
    "\n",
    "$SST =  \\sum_{i=1}^{n} \\omega _{i}(y_{i}-\\bar{y_{i}})^2$\n",
    "\n",
    "$R^2 = \\frac{SSR}{SST} = \\frac{SST-SSE}{SST}=1 - \\frac{SSE}{SST}$"
   ]
  },
  {
   "cell_type": "markdown",
   "metadata": {},
   "source": [
    "### 3.3.2 评估代码示例"
   ]
  },
  {
   "cell_type": "code",
   "execution_count": 11,
   "metadata": {},
   "outputs": [],
   "source": [
    "import pandas as pd\n",
    "import numpy as np\n",
    "from sklearn.metrics import accuracy_score"
   ]
  },
  {
   "cell_type": "markdown",
   "metadata": {},
   "source": [
    "#### 分类指标评价计算示例"
   ]
  },
  {
   "cell_type": "code",
   "execution_count": 12,
   "metadata": {},
   "outputs": [
    {
     "name": "stdout",
     "output_type": "stream",
     "text": [
      "ACC: 0.75\n"
     ]
    }
   ],
   "source": [
    "### 二分类/多分类指标：accuracy\n",
    "y_pred = [0,1,0,1]\n",
    "y_true = [0,1,1,1]\n",
    "print('ACC:',accuracy_score(y_true,y_pred))"
   ]
  },
  {
   "cell_type": "code",
   "execution_count": 13,
   "metadata": {},
   "outputs": [
    {
     "name": "stdout",
     "output_type": "stream",
     "text": [
      "Precision 1.0\n",
      "Recall 0.5\n",
      "F1-score: 0.6666666666666666\n"
     ]
    }
   ],
   "source": [
    "### 二分类/多分类指标：F1-score\n",
    "from sklearn import metrics\n",
    "y_pred = [0,1,0,0]\n",
    "y_true = [0,1,0,1]\n",
    "print('Precision',metrics.precision_score(y_true,y_pred))\n",
    "print('Recall',metrics.recall_score(y_true,y_pred))\n",
    "print('F1-score:',metrics.f1_score(y_true,y_pred))"
   ]
  },
  {
   "cell_type": "code",
   "execution_count": 14,
   "metadata": {},
   "outputs": [
    {
     "name": "stdout",
     "output_type": "stream",
     "text": [
      "AUC score: 0.75\n"
     ]
    }
   ],
   "source": [
    "### 二分类AUC\n",
    "from sklearn.metrics import roc_auc_score\n",
    "y_true = np.array([0,0,1,1])\n",
    "y_scores = np.array([0.1,0.4,0.35,0.8])\n",
    "print('AUC score:',roc_auc_score(y_true,y_scores))"
   ]
  },
  {
   "cell_type": "markdown",
   "metadata": {},
   "source": [
    "#### 回归指标评价示例"
   ]
  },
  {
   "cell_type": "code",
   "execution_count": 15,
   "metadata": {},
   "outputs": [
    {
     "name": "stdout",
     "output_type": "stream",
     "text": [
      "MSE: 0.3428571428571429\n",
      "RMSE: 0.5855400437691199\n",
      "MAE: 0.45714285714285724\n",
      "MAPE: 0.16\n"
     ]
    }
   ],
   "source": [
    "from sklearn import metrics\n",
    "\n",
    "### MAPE实现\n",
    "def MAPE(y_true, y_pred):\n",
    "    return np.mean(np.abs((y_pred - y_true) / y_true))\n",
    "\n",
    "y_true = np.array([1.0,5.0,4.0,3.0,2.0,5.0,-3.0])\n",
    "y_pred = np.array([1.0,4.8,3.6,3.2,3.0,4.6,-2.0])\n",
    "\n",
    "## MSE\n",
    "print('MSE:',metrics.mean_squared_error(y_true, y_pred))\n",
    "## RMSE\n",
    "print('RMSE:',np.sqrt(metrics.mean_squared_error(y_true, y_pred)))\n",
    "## MAE\n",
    "print('MAE:',metrics.mean_absolute_error(y_true, y_pred))\n",
    "##MAPE\n",
    "print('MAPE:',MAPE(y_true, y_pred))"
   ]
  },
  {
   "cell_type": "code",
   "execution_count": 16,
   "metadata": {},
   "outputs": [
    {
     "name": "stdout",
     "output_type": "stream",
     "text": [
      "R2_score: 0.9486081370449679\n"
     ]
    }
   ],
   "source": [
    "### R2-score\n",
    "from sklearn.metrics import r2_score\n",
    "y_true = [3,-0.5,2,7]\n",
    "y_pred = [2.5,0.0,2,8.0]\n",
    "print('R2_score:',r2_score(y_true, y_pred))"
   ]
  },
  {
   "cell_type": "markdown",
   "metadata": {},
   "source": [
    "### ROC曲线\n",
    "要生成一个ROC曲线,只需要真阳性率(TPR)和假阳性率(FPR)。TPR决定了一个分类器或者一个诊断测试在所有阳性样本中能正确区分的阳性案例的性能.而FPR是决定了在所有阴性的样本中有多少假阳性的判断. ROC曲线中分别将FPR和TPR定义为x和y轴,这样就描述了真阳性(获利)和假阳性(成本)之间的博弈.而TPR就可以定义为灵敏度,而FPR就定义为1-特异度,因此ROC曲线有时候也叫做灵敏度和1-特异度图像.每一个预测结果在ROC曲线中以一个点代表。\n",
    "\n",
    "$TPT = \\frac{TP}{TP + FN} $\n",
    "\n",
    "$TPT = \\frac{FP}{TN + FP} $\n",
    "\n",
    "有了ROC曲线后，可以引出AUC的含义：ROC曲线下的面积（越大越好，1为理想状态）。\n",
    "\n",
    "- ROC曲线图中的四个点\n",
    "\n",
    "第一个点，(0,1)，即FPR=0, TPR=1，这意味着FN（false negative）=0，并且FP（false positive）=0。这是一个完美的分类器，它将所有的样本都正确分类。第二个点，(1,0)，即FPR=1，TPR=0，类似地分析可以发现这是一个最糟糕的分类器，因为它成功避开了所有的正确答案。第三个点，(0,0)，即FPR=TPR=0，即FP（false positive）=TP（true positive）=0，可以发现该分类器预测所有的样本都为负样本（negative）。类似的，第四个点（1,1），分类器实际上预测所有的样本都为正样本。经过以上的分析，，ROC曲线越接近左上角，该分类器的性能越好。\n",
    "- ROC曲线图中的一条特殊线\n",
    "\n",
    "考虑ROC曲线图中的虚线y=x上的点。这条对角线上的点其实表示的是一个采用随机猜测策略的分类器的结果，例如(0.5,0.5)，表示该分类器随机对于一半的样本猜测其为正样本，另外一半的样本为负样本。\n",
    "\n",
    "- 如何画ROC曲线\n",
    "\n",
    "对于一个特定的分类器和测试数据集，每一个实例都会得到一个分类结果，通过统计，利用上述公式，可以得到一组FPR和TPR结果，而要得到一个曲线，实际上需要一系列FPR和TPR的值。那么这一系列值是怎么构造出来的呢？ \n",
    "在ROC曲线的定义中，有“as its discrimination threshold is varied.”这样一句话，而在本文最开始也提到了分类器的结果可以是“概率输出”，即表示分类器认为某个样本具有多大的概率属于正样本（或负样本），于是如果设置不同的threshold，那么分类结果就会有所变动，因此可以得到一系列FPR和TPR的值。 \n",
    "\n",
    "- 实现ROC曲线：`sklearn.metrics`\n",
    " - `from sklearn.metrics import roc_curve,auc`\n",
    " - `fpr,tpr,thresholds = roc_curve(ytest,scores)`\n",
    " - `roc_auc = auc(fpr,tpr)`auc的值"
   ]
  },
  {
   "cell_type": "markdown",
   "metadata": {},
   "source": [
    "### 多分类问题中的ROC曲线\n",
    "假设测试样本个数为m，类别个数为n。在训练完成后，计算出每个测试样本的在各类别下的概率或置信度，得到一个[m， n]形状的矩阵P，每一行表示一个测试样本在各类别下概率值（按类别标签排序）。相应地，将每个测试样本的标签转换为类似二进制的形式，每个位置用来标记是否属于对应的类别（也按标签排序，这样才和前面对应），由此也可以获得一个[m， n]的标签矩阵L。 \n",
    "\n",
    "- 方法一：每种类别下，都可以得到m个测试样本为该类别的概率（矩阵P中的列）。所以，根据概率矩阵P和标签矩阵L中对应的每一列，可以计算出各个阈值下的假正例率（FPR）和真正例率（TPR），从而绘制出一条ROC曲线。这样总共可以绘制出n条ROC曲线。最后对n条ROC曲线取平均，即可得到最终的ROC曲线。 \n",
    "- 方法二： \n",
    "首先，对于一个测试样本：1）标签只由0和1组成，1的位置表明了它的类别（可对应二分类问题中的‘’正’’），0就表示其他类别（‘’负‘’）；2）要是分类器对该测试样本分类正确，则该样本标签中1对应的位置在概率矩阵P中的值是大于0对应的位置的概率值的。基于这两点，将标签矩阵L和概率矩阵P分别按行展开，转置后形成两列，这就得到了一个二分类的结果。所以，此方法经过计算后可以直接得到最终的ROC曲线。 \n",
    "\n",
    "上面的两个方法得到的ROC曲线是不同的，当然曲线下的面积AUC也是不一样的。 在python中，方法1和方法2分别对应`sklearn.metrics.roc_auc_score`函数中参数`average`值为’macro’和’micro’的情况。"
   ]
  },
  {
   "cell_type": "markdown",
   "metadata": {},
   "source": [
    "### 3.4 模型搭建\n",
    "**监督与无监督学习的区分**\n",
    "- 监督式学习是对数据的若干特征与若干标签之间的关联性进行建模的过程。\n",
    "\n",
    "  提供给算法的包含所需解决方案的训练数据，称为标签或标记。进一步分为分类任务（离散标签）和回归任务（连续标签）。\n",
    "- 无监督室学习是没有任何已知标签的数据算法。\n",
    "\n",
    "  进一步分为聚类算法、可视化和降维算法、关联规则、异常检测四类。\n",
    "  \n",
    "思考：数据集哪些差异会导致模型在拟合数据时发生变化？\n",
    "\n",
    "答：数据量，数据类型（不同模型）和特征值处理。"
   ]
  },
  {
   "cell_type": "markdown",
   "metadata": {},
   "source": [
    "### 切割训练集和测试集\n",
    "#### 留出集\n",
    "1. 先从训练模型的数据中心留出一部分（一般7:3，或8:2），然后用留出来的数据检验模型性能。\n",
    "2. 训练集和测试集的划分要尽可能保持数据分布的一致性。**分层采样**：每个类别当中也按照7:3的比例来划分。以二分类为例正例样本在训练集和测试集中的比例为7:3，反例在训练集和测试集中的比例也为7:3。\n",
    "3. 留出法得到的结果往往不够稳定可靠，不同的训练集测试集划分会导致模型评估标准也会不同。一般都会进行多次随机划分，例如100次试验评估就会得到100个结果，留出法取这100个结果的平均。\n",
    "\n",
    "#### 交叉检验\n",
    "交叉验证法的作用就是尝试**利用不同的训练集/验证集划分**来对模型做多组不同的训练/验证，来应对单独测试结果**过于片面以及训练数据不足**的问题。即做一组拟合，让数据的每个子集既是训练集，又是验证集。\n",
    "1. 随机将训练数据等分成k份，S1, S2, …, Sk。\n",
    " \n",
    "2. 对于每一个模型Mi，算法执行k次，每次选择一个Sj作为验证集，而其它作为训练集来训练模型Mi，把训练得到的模型在Sj上进行测试，这样一来，每次都会得到一个误差E，最后对k次得到的误差求平均，就可以得到模型Mi的泛化误差。\n",
    " \n",
    "3. 算法选择具有最小泛化误差的模型作为最终模型，并且在整个训练集上再次训练该模型，从而得到最终的模型。\n",
    "\n",
    "  K折交叉验证，其主要 的目的是为了选择不同的模型类型（比如一次线性模型、非线性模型、），而不是为了选择具体模型的具体参数。比如在BP神经网络中，其目的主要为了选择模型的层数、神经元的激活函数、每层模型的神经元个数（即所谓的超参数）。每一层网络神经元连接的最终权重是在模型选择（即K折交叉验证）之后，由全部的训练数据重新训练。 \n",
    "\n",
    "目的在模型选择，而非模型训练调整参数。\n",
    "\n",
    "K值-K轮交叉检验\n",
    "\n",
    "**注：**一般是数量级允许的情况下，数量级太少的话不用验证集了。"
   ]
  },
  {
   "cell_type": "code",
   "execution_count": 17,
   "metadata": {},
   "outputs": [
    {
     "data": {
      "image/png": "[encoded data removed]",
      "text/plain": [
       "<IPython.core.display.Image object>"
      ]
     },
     "execution_count": 17,
     "metadata": {},
     "output_type": "execute_result"
    }
   ],
   "source": [
    "Image('Snipaste_2020-01-05_16-37-56.png')"
   ]
  },
  {
   "cell_type": "markdown",
   "metadata": {},
   "source": [
    "* 因数据量的问题，本次直接采取留出集的方法。\n",
    "* 切割数据集是为了后续能评估模型泛化能力。\n",
    "* sklearn中切割数据集的方法为`train_test_split`。\n",
    "* 分层和随机种子在参数里寻找。\n",
    "\n",
    "思考：什么情况下切割数据集的时候不用随机选取？\n",
    "\n",
    "答：数据量足够的时候直接分层即可，或者有一定的随机重复实验。"
   ]
  },
  {
   "cell_type": "markdown",
   "metadata": {},
   "source": [
    "`train_test_split()`\n",
    "`Xtrain,Xtest, ytrain, ytest =sklearn.model_selection.train_test_split(train_data,train_target,test_size=0.3, random_state=1,stratify=y_train)`\n",
    "- `stratify`：可以为类似数组或None\n",
    "\n",
    "若为None时，划分出来的测试集或训练集中，其类标签的比例也是随机的\n",
    "\n",
    "若不为None时，划分出来的测试集或训练集中，其类标签的比例同输入的数组中类标签的比例相同，可以用于处理不均衡的数据集"
   ]
  },
  {
   "cell_type": "code",
   "execution_count": 18,
   "metadata": {},
   "outputs": [],
   "source": [
    "### 留出集应用：Scikit-Learn的model_selection的train_test_split工具\n",
    "from sklearn.model_selection import train_test_split\n",
    "\n",
    "X = data\n",
    "y = train['Survived']\n",
    "\n",
    "Xtrain,Xtest,ytrain,ytest = train_test_split(X,y,test_size=0.3,random_state=1)"
   ]
  },
  {
   "cell_type": "code",
   "execution_count": 19,
   "metadata": {
    "scrolled": true
   },
   "outputs": [
    {
     "data": {
      "text/plain": [
       "(623, 11)"
      ]
     },
     "execution_count": 19,
     "metadata": {},
     "output_type": "execute_result"
    },
    {
     "data": {
      "text/plain": [
       "(268, 11)"
      ]
     },
     "execution_count": 19,
     "metadata": {},
     "output_type": "execute_result"
    }
   ],
   "source": [
    "###看一下分割后的数据集大小\n",
    "Xtrain.shape\n",
    "Xtest.shape"
   ]
  },
  {
   "cell_type": "markdown",
   "metadata": {},
   "source": [
    "### 交叉验证应用\n",
    "`from sklearn.model_selection import cross_val_score`\n",
    "\n",
    "`sklearn.model_selection.cross_val_score(estimator, X, y=None, groups=None, scoring=None, cv=’warn’, n_jobs=None, verbose=0, fit_params=None, pre_dispatch=‘2*n_jobs’, error_score=’raise-deprecating’)`\n",
    "\n",
    "参数：\n",
    "\n",
    "- `estimator`： 需要使用交叉验证的算法\n",
    "- `X`： 输入样本数据\n",
    "- `y`： 样本标签\n",
    "- `groups`： 将数据集分割为训练/测试集时使用的样本的组标签（一般用不到）\n",
    "- `scoring`： 交叉验证最重要的就是他的验证方式，选择不同的评价方法，会产生不同的评价结果。"
   ]
  },
  {
   "cell_type": "code",
   "execution_count": 58,
   "metadata": {},
   "outputs": [],
   "source": [
    "from sklearn.model_selection import cross_val_score"
   ]
  },
  {
   "cell_type": "markdown",
   "metadata": {},
   "source": [
    "### 3.5 模型创建\n",
    "-  创建基于线性模型的分类模型（逻辑回归）\n",
    "-  创建基于树的分类模型（决策树、随机森林）\n",
    " - 随机森林其实是决策树集成为了降低决策树过拟合的情况\n",
    "-  查看模型的参数，并更改参数值，观察模型变化\n",
    "\n",
    "### 模式1：代入默认参数求解模型"
   ]
  },
  {
   "cell_type": "markdown",
   "metadata": {},
   "source": [
    "### 模型一：Naive Bayes Classifiers\n",
    "朴素贝叶斯分类器建立在贝叶斯分类方法的基础上，简单高效，通常适用于维度非常高的数据集。运行速度快，可调参数少，非常适合提供快速粗糙的分类基本方案。\n",
    "\n",
    "- 优点 \n",
    " - 所需估计的参数少，对于缺失数据不敏感。\n",
    "- 缺点 \n",
    " - 假设属性之间相互独立，这往往并不成立。（喜欢吃番茄、鸡蛋，却不喜欢吃番茄炒蛋）。\n",
    " - 需要知道先验概率。\n",
    " - 分类决策错误率。"
   ]
  },
  {
   "cell_type": "code",
   "execution_count": 81,
   "metadata": {},
   "outputs": [
    {
     "data": {
      "text/plain": [
       "GaussianNB()"
      ]
     },
     "execution_count": 81,
     "metadata": {},
     "output_type": "execute_result"
    }
   ],
   "source": [
    "### 高斯朴素贝叶斯\n",
    "from sklearn.naive_bayes import GaussianNB\n",
    "gnb = GaussianNB()\n",
    "#在训练集上训练高斯朴素贝叶斯模型\n",
    "gnb.fit(Xtrain,ytrain)"
   ]
  },
  {
   "cell_type": "code",
   "execution_count": 84,
   "metadata": {},
   "outputs": [
    {
     "name": "stdout",
     "output_type": "stream",
     "text": [
      "Training set score: 0.80\n",
      "Testing set score: 0.80\n"
     ]
    }
   ],
   "source": [
    "#查看训练集和测试集的score值\n",
    "print(\"Training set score: {:.2f}\".format(gnb.score(Xtrain, ytrain)))\n",
    "print(\"Testing set score: {:.2f}\".format(gnb.score(Xtest, ytest)))"
   ]
  },
  {
   "cell_type": "code",
   "execution_count": 85,
   "metadata": {},
   "outputs": [],
   "source": [
    "## 在训练集和测试集上分布利用训练好的模型进行预测\n",
    "train_predict = gnb.predict(Xtrain)\n",
    "test_predict = gnb.predict(Xtest)"
   ]
  },
  {
   "cell_type": "code",
   "execution_count": 86,
   "metadata": {},
   "outputs": [
    {
     "name": "stdout",
     "output_type": "stream",
     "text": [
      "The accuracy of the Logistic Regression is: 0.8008565310492506\n",
      "The accuracy of the Logistic Regression is: 0.8012820512820513\n",
      "The confusion matrix result:\n",
      " [[78 13]\n",
      " [18 47]]\n"
     ]
    },
    {
     "data": {
      "text/plain": [
       "<Figure size 576x432 with 0 Axes>"
      ]
     },
     "execution_count": 86,
     "metadata": {},
     "output_type": "execute_result"
    },
    {
     "data": {
      "text/plain": [
       "<matplotlib.axes._subplots.AxesSubplot at 0x20cbdd06438>"
      ]
     },
     "execution_count": 86,
     "metadata": {},
     "output_type": "execute_result"
    },
    {
     "data": {
      "text/plain": [
       "Text(0.5, 35.0, 'Predicted labels')"
      ]
     },
     "execution_count": 86,
     "metadata": {},
     "output_type": "execute_result"
    },
    {
     "data": {
      "text/plain": [
       "Text(53.0, 0.5, 'True labels')"
      ]
     },
     "execution_count": 86,
     "metadata": {},
     "output_type": "execute_result"
    },
    {
     "data": {
      "image/png": "[encoded data removed]",
      "text/plain": [
       "<Figure size 576x432 with 2 Axes>"
      ]
     },
     "metadata": {
      "needs_background": "light"
     },
     "output_type": "display_data"
    }
   ],
   "source": [
    "from sklearn import metrics\n",
    "\n",
    "## 利用accuracy（准确度）【预测正确的样本数目占总预测样本数目的比例】评估模型效果\n",
    "print('The accuracy of the Logistic Regression is:',metrics.accuracy_score(ytrain,train_predict))\n",
    "print('The accuracy of the Logistic Regression is:',metrics.accuracy_score(ytest,test_predict))\n",
    "\n",
    "## 查看混淆矩阵 (预测值和真实值的各类情况统计矩阵)\n",
    "confusion_matrix_result = metrics.confusion_matrix(test_predict,ytest)\n",
    "print('The confusion matrix result:\\n',confusion_matrix_result)\n",
    "\n",
    "# 利用热力图对于结果进行可视化\n",
    "plt.figure(figsize=(8, 6))\n",
    "sns.heatmap(confusion_matrix_result, annot=True, cmap='Blues')\n",
    "plt.xlabel('Predicted labels')\n",
    "plt.ylabel('True labels')\n",
    "plt.show()"
   ]
  },
  {
   "cell_type": "code",
   "execution_count": 88,
   "metadata": {},
   "outputs": [
    {
     "data": {
      "text/plain": [
       "[<matplotlib.lines.Line2D at 0x20cbde3fa20>]"
      ]
     },
     "execution_count": 88,
     "metadata": {},
     "output_type": "execute_result"
    },
    {
     "data": {
      "text/plain": [
       "Text(0.5, 0, 'FPR')"
      ]
     },
     "execution_count": 88,
     "metadata": {},
     "output_type": "execute_result"
    },
    {
     "data": {
      "text/plain": [
       "Text(0, 0.5, 'TPR(Recall)')"
      ]
     },
     "execution_count": 88,
     "metadata": {},
     "output_type": "execute_result"
    },
    {
     "data": {
      "text/plain": [
       "[<matplotlib.lines.Line2D at 0x20cbde14128>]"
      ]
     },
     "execution_count": 88,
     "metadata": {},
     "output_type": "execute_result"
    },
    {
     "data": {
      "text/plain": [
       "<matplotlib.legend.Legend at 0x20cbde14208>"
      ]
     },
     "execution_count": 88,
     "metadata": {},
     "output_type": "execute_result"
    },
    {
     "data": {
      "image/png": "[encoded data removed]",
      "text/plain": [
       "<Figure size 432x288 with 1 Axes>"
      ]
     },
     "metadata": {
      "needs_background": "light"
     },
     "output_type": "display_data"
    }
   ],
   "source": [
    "from sklearn.metrics import roc_curve,auc\n",
    "fpr,tpr,threshold = roc_curve(ytest,gnb.predict_proba(Xtest)[:,1])\n",
    "plt.plot(fpr, tpr,label = 'ROC Curve')\n",
    "plt.xlabel('FPR')\n",
    "plt.ylabel('TPR(Recall)')\n",
    "\n",
    "###最接近0的阈值\n",
    "close_zero = np.argmin(np.abs(threshold))\n",
    "plt.plot(fpr[close_zero], tpr[close_zero], 'o', markersize=10, label=\"threshold zero\", fillstyle=\"none\", c='k', mew=2)\n",
    "plt.legend(loc='best')"
   ]
  },
  {
   "cell_type": "markdown",
   "metadata": {},
   "source": [
    "### 模型二： LogiticRegression\n",
    "- 优点 \n",
    " - 速度快。\n",
    " - 简单易于理解，直接看到各个特征的权重。\n",
    " - 能容易地更新模型吸收新的数据。\n",
    " - 如果想要一个概率框架，动态调整分类阀值。\n",
    "- 缺点 \n",
    " - 特征处理复杂。需要归一化和较多的特征工程。"
   ]
  },
  {
   "cell_type": "code",
   "execution_count": 65,
   "metadata": {},
   "outputs": [],
   "source": [
    "from sklearn.linear_model import LogisticRegression"
   ]
  },
  {
   "cell_type": "code",
   "execution_count": 66,
   "metadata": {},
   "outputs": [
    {
     "data": {
      "text/plain": [
       "LogisticRegression(random_state=0)"
      ]
     },
     "execution_count": 66,
     "metadata": {},
     "output_type": "execute_result"
    }
   ],
   "source": [
    "lr = LogisticRegression(random_state=0, solver='lbfgs')\n",
    "# 在训练集上训练逻辑回归模型\n",
    "lr.fit(Xtrain,ytrain)"
   ]
  },
  {
   "cell_type": "code",
   "execution_count": 67,
   "metadata": {},
   "outputs": [
    {
     "name": "stdout",
     "output_type": "stream",
     "text": [
      "Training set score: 0.80\n",
      "Testing set score: 0.79\n"
     ]
    }
   ],
   "source": [
    "# 查看训练集和测试集score值\n",
    "## 查看其对应的w\n",
    "print(\"Training set score: {:.2f}\".format(lr.score(Xtrain, ytrain)))\n",
    "## 查看其对应的w0\n",
    "print(\"Testing set score: {:.2f}\".format(lr.score(Xtest, ytest)))"
   ]
  },
  {
   "cell_type": "code",
   "execution_count": 68,
   "metadata": {},
   "outputs": [],
   "source": [
    "## 在训练集和测试集上分布利用训练好的模型进行预测\n",
    "train_predict = lr.predict(Xtrain)\n",
    "test_predict = lr.predict(Xtest)"
   ]
  },
  {
   "cell_type": "code",
   "execution_count": 69,
   "metadata": {
    "scrolled": false
   },
   "outputs": [
    {
     "name": "stdout",
     "output_type": "stream",
     "text": [
      "The accuracy of the Logistic Regression is: 0.8029978586723768\n",
      "The accuracy of the Logistic Regression is: 0.7884615384615384\n",
      "The confusion matrix result:\n",
      " [[82 19]\n",
      " [14 41]]\n"
     ]
    },
    {
     "data": {
      "text/plain": [
       "<Figure size 576x432 with 0 Axes>"
      ]
     },
     "execution_count": 69,
     "metadata": {},
     "output_type": "execute_result"
    },
    {
     "data": {
      "text/plain": [
       "<matplotlib.axes._subplots.AxesSubplot at 0x20cbd9ee4e0>"
      ]
     },
     "execution_count": 69,
     "metadata": {},
     "output_type": "execute_result"
    },
    {
     "data": {
      "text/plain": [
       "Text(0.5, 35.0, 'Predicted labels')"
      ]
     },
     "execution_count": 69,
     "metadata": {},
     "output_type": "execute_result"
    },
    {
     "data": {
      "text/plain": [
       "Text(53.0, 0.5, 'True labels')"
      ]
     },
     "execution_count": 69,
     "metadata": {},
     "output_type": "execute_result"
    },
    {
     "data": {
      "image/png": "[encoded data removed]",
      "text/plain": [
       "<Figure size 576x432 with 2 Axes>"
      ]
     },
     "metadata": {
      "needs_background": "light"
     },
     "output_type": "display_data"
    }
   ],
   "source": [
    "from sklearn import metrics\n",
    "\n",
    "## 利用accuracy（准确度）【预测正确的样本数目占总预测样本数目的比例】评估模型效果\n",
    "print('The accuracy of the Logistic Regression is:',metrics.accuracy_score(ytrain,train_predict))\n",
    "print('The accuracy of the Logistic Regression is:',metrics.accuracy_score(ytest,test_predict))\n",
    "\n",
    "## 查看混淆矩阵 (预测值和真实值的各类情况统计矩阵)\n",
    "confusion_matrix_result = metrics.confusion_matrix(test_predict,ytest)\n",
    "print('The confusion matrix result:\\n',confusion_matrix_result)\n",
    "\n",
    "# 利用热力图对于结果进行可视化\n",
    "plt.figure(figsize=(8, 6))\n",
    "sns.heatmap(confusion_matrix_result, annot=True, cmap='Blues')\n",
    "plt.xlabel('Predicted labels')\n",
    "plt.ylabel('True labels')\n",
    "plt.show()"
   ]
  },
  {
   "cell_type": "code",
   "execution_count": 76,
   "metadata": {
    "scrolled": false
   },
   "outputs": [
    {
     "data": {
      "text/plain": [
       "[<matplotlib.lines.Line2D at 0x20cbdc34518>]"
      ]
     },
     "execution_count": 76,
     "metadata": {},
     "output_type": "execute_result"
    },
    {
     "data": {
      "text/plain": [
       "Text(0.5, 0, 'FPR')"
      ]
     },
     "execution_count": 76,
     "metadata": {},
     "output_type": "execute_result"
    },
    {
     "data": {
      "text/plain": [
       "Text(0, 0.5, 'TPR(Recall)')"
      ]
     },
     "execution_count": 76,
     "metadata": {},
     "output_type": "execute_result"
    },
    {
     "data": {
      "text/plain": [
       "[<matplotlib.lines.Line2D at 0x20cbdb79518>]"
      ]
     },
     "execution_count": 76,
     "metadata": {},
     "output_type": "execute_result"
    },
    {
     "data": {
      "text/plain": [
       "<matplotlib.legend.Legend at 0x20cbdc349e8>"
      ]
     },
     "execution_count": 76,
     "metadata": {},
     "output_type": "execute_result"
    },
    {
     "data": {
      "image/png": "[encoded data removed]",
      "text/plain": [
       "<Figure size 432x288 with 1 Axes>"
      ]
     },
     "metadata": {
      "needs_background": "light"
     },
     "output_type": "display_data"
    }
   ],
   "source": [
    "from sklearn.metrics import roc_curve,auc\n",
    "fpr,tpr,threshold = roc_curve(ytest,lr.decision_function(Xtest))\n",
    "plt.plot(fpr, tpr,label = 'ROC Curve')\n",
    "plt.xlabel('FPR')\n",
    "plt.ylabel('TPR(Recall)')\n",
    "\n",
    "###最接近0的阈值\n",
    "close_zero = np.argmin(np.abs(threshold))\n",
    "plt.plot(fpr[close_zero], tpr[close_zero], 'o', markersize=10, label=\"threshold zero\", fillstyle=\"none\", c='k', mew=2)\n",
    "plt.legend(loc='best')"
   ]
  },
  {
   "cell_type": "markdown",
   "metadata": {},
   "source": [
    "### 模型三：SVM\n",
    "支持向量机（support vector machines, SVM）是一种二分类模型，它的基本模型是定义在特征空间上的间隔最大的线性分类器，间隔最大使它有别于感知机，其决策边界是对学习样本求解的最大边距超平面。\n",
    "\n",
    "SVM还包括核技巧，这使它成为实质上的非线性分类器。SVM的的学习策略就是间隔最大化，*即从决策边界到各个数据集的距离越大，分类操作出错率越小。*可形式化为一个求解凸二次规划的问题，也等价于正则化的合页损失函数的最小化问题。SVM的的学习算法就是求解凸二次规划的最优化算法。"
   ]
  },
  {
   "cell_type": "code",
   "execution_count": 120,
   "metadata": {},
   "outputs": [
    {
     "data": {
      "text/plain": [
       "SVC(C=1, kernel='linear')"
      ]
     },
     "execution_count": 120,
     "metadata": {},
     "output_type": "execute_result"
    }
   ],
   "source": [
    "from sklearn.svm import SVC\n",
    "clf = SVC(C=1,kernel = 'linear')\n",
    "clf.fit(Xtrain,ytrain)"
   ]
  },
  {
   "cell_type": "code",
   "execution_count": 121,
   "metadata": {},
   "outputs": [
    {
     "name": "stdout",
     "output_type": "stream",
     "text": [
      "The accuracy of the Logistic Regression is: 0.8051391862955032\n",
      "The accuracy of the Logistic Regression is: 0.8076923076923077\n",
      "The confusion matrix result:\n",
      " [[81 15]\n",
      " [15 45]]\n"
     ]
    },
    {
     "data": {
      "text/plain": [
       "<Figure size 576x432 with 0 Axes>"
      ]
     },
     "execution_count": 121,
     "metadata": {},
     "output_type": "execute_result"
    },
    {
     "data": {
      "text/plain": [
       "<matplotlib.axes._subplots.AxesSubplot at 0x20cbf86c588>"
      ]
     },
     "execution_count": 121,
     "metadata": {},
     "output_type": "execute_result"
    },
    {
     "data": {
      "text/plain": [
       "Text(0.5, 35.0, 'Predicted labels')"
      ]
     },
     "execution_count": 121,
     "metadata": {},
     "output_type": "execute_result"
    },
    {
     "data": {
      "text/plain": [
       "Text(53.0, 0.5, 'True labels')"
      ]
     },
     "execution_count": 121,
     "metadata": {},
     "output_type": "execute_result"
    },
    {
     "data": {
      "image/png": "[encoded data removed]",
      "text/plain": [
       "<Figure size 576x432 with 2 Axes>"
      ]
     },
     "metadata": {
      "needs_background": "light"
     },
     "output_type": "display_data"
    }
   ],
   "source": [
    "## 在训练集和测试集上分布利用训练好的模型进行预测\n",
    "train_predict = clf.predict(Xtrain)\n",
    "test_predict = clf.predict(Xtest)\n",
    "\n",
    "from sklearn import metrics\n",
    "\n",
    "## 利用accuracy（准确度）【预测正确的样本数目占总预测样本数目的比例】评估模型效果\n",
    "print('The accuracy of the Logistic Regression is:',metrics.accuracy_score(ytrain,train_predict))\n",
    "print('The accuracy of the Logistic Regression is:',metrics.accuracy_score(ytest,test_predict))\n",
    "\n",
    "## 查看混淆矩阵 (预测值和真实值的各类情况统计矩阵)\n",
    "confusion_matrix_result = metrics.confusion_matrix(test_predict,ytest)\n",
    "print('The confusion matrix result:\\n',confusion_matrix_result)\n",
    "\n",
    "# 利用热力图对于结果进行可视化\n",
    "plt.figure(figsize=(8, 6))\n",
    "sns.heatmap(confusion_matrix_result, annot=True, cmap='Blues')\n",
    "plt.xlabel('Predicted labels')\n",
    "plt.ylabel('True labels')\n",
    "plt.show()"
   ]
  },
  {
   "cell_type": "markdown",
   "metadata": {},
   "source": [
    "### 模型四：Decision Tree\n",
    "本质是一颗由多个判断节点组成的树。决策树算法的核心是通过对数据的学习，选定判断节点，构造一颗合适的决策树。\n",
    "\n",
    "树模型不需要做归一化：\n",
    " - 归一化的目的是为了加快梯度下降法的收敛速度，但是决策树模型不需要计算梯度。\n",
    " - 树模型只考虑特征的划分界限，而不需要考虑特征的值范围。\n",
    " \n",
    "决策树的关键是**选择最优划分属性**。\n",
    "\n",
    "一个属性会有多个取值，根据这个属性的不同取值将输入的数据划分为多个样本集合，一个取值对应一个分支集合(注意，CART树只选取一个取值，因此是划分为二叉树），使得每个取值分支集合中的样本尽可能属于同一类别，即分支集合的纯度越高。\n",
    "\n",
    "三种选择方式：\n",
    " - 信息增益 ID3\n",
    " - 增益率 C4.5，为了避免ID3算法偏向于选择可取值数目较多的属性。\n",
    " - 基尼指数 CART树。\n",
    " \n",
    "优点 \n",
    " - 不需要任何领域知识或参数假设。\n",
    " - 适合高维数据。\n",
    " - 简单易于理解。\n",
    " - 短时间内处理大量数据，得到可行且效果较好的结果。\n",
    "\n",
    "缺点 \n",
    " - 对于各类别样本数量不一致数据，信息增益偏向于那些具有更多数值的特征。\n",
    " - 易于过拟合。\n",
    " - 忽略属性之间的相关性。\n",
    " - 不支持在线学习"
   ]
  },
  {
   "cell_type": "code",
   "execution_count": 97,
   "metadata": {},
   "outputs": [
    {
     "data": {
      "text/plain": [
       "DecisionTreeClassifier(criterion='entropy')"
      ]
     },
     "execution_count": 97,
     "metadata": {},
     "output_type": "execute_result"
    }
   ],
   "source": [
    "## 从sklearn中导入决策树模型\n",
    "from sklearn.tree import DecisionTreeClassifier\n",
    "from sklearn import tree# acc\n",
    "## 定义 决策树模型 \n",
    "dtc = DecisionTreeClassifier(criterion='entropy')\n",
    "# 在训练集上训练决策树模型\n",
    "dtc.fit(Xtrain, ytrain)"
   ]
  },
  {
   "cell_type": "code",
   "execution_count": 98,
   "metadata": {},
   "outputs": [
    {
     "name": "stdout",
     "output_type": "stream",
     "text": [
      "The accuracy of the Logistic Regression is: 1.0\n",
      "The accuracy of the Logistic Regression is: 0.7435897435897436\n",
      "The confusion matrix result:\n",
      " [[76 20]\n",
      " [20 40]]\n"
     ]
    },
    {
     "data": {
      "text/plain": [
       "<Figure size 576x432 with 0 Axes>"
      ]
     },
     "execution_count": 98,
     "metadata": {},
     "output_type": "execute_result"
    },
    {
     "data": {
      "text/plain": [
       "<matplotlib.axes._subplots.AxesSubplot at 0x20cbe08bf98>"
      ]
     },
     "execution_count": 98,
     "metadata": {},
     "output_type": "execute_result"
    },
    {
     "data": {
      "text/plain": [
       "Text(0.5, 35.0, 'Predicted labels')"
      ]
     },
     "execution_count": 98,
     "metadata": {},
     "output_type": "execute_result"
    },
    {
     "data": {
      "text/plain": [
       "Text(53.0, 0.5, 'True labels')"
      ]
     },
     "execution_count": 98,
     "metadata": {},
     "output_type": "execute_result"
    },
    {
     "data": {
      "image/png": "[encoded data removed]",
      "text/plain": [
       "<Figure size 576x432 with 2 Axes>"
      ]
     },
     "metadata": {
      "needs_background": "light"
     },
     "output_type": "display_data"
    }
   ],
   "source": [
    "## 在训练集和测试集上分布利用训练好的模型进行预测\n",
    "train_predict = dtc.predict(Xtrain)\n",
    "test_predict = dtc.predict(Xtest)\n",
    "\n",
    "from sklearn import metrics\n",
    "\n",
    "## 利用accuracy（准确度）【预测正确的样本数目占总预测样本数目的比例】评估模型效果\n",
    "print('The accuracy of the Logistic Regression is:',metrics.accuracy_score(ytrain,train_predict))\n",
    "print('The accuracy of the Logistic Regression is:',metrics.accuracy_score(ytest,test_predict))\n",
    "\n",
    "## 查看混淆矩阵 (预测值和真实值的各类情况统计矩阵)\n",
    "confusion_matrix_result = metrics.confusion_matrix(test_predict,ytest)\n",
    "print('The confusion matrix result:\\n',confusion_matrix_result)\n",
    "\n",
    "# 利用热力图对于结果进行可视化\n",
    "plt.figure(figsize=(8, 6))\n",
    "sns.heatmap(confusion_matrix_result, annot=True, cmap='Blues')\n",
    "plt.xlabel('Predicted labels')\n",
    "plt.ylabel('True labels')\n",
    "plt.show()"
   ]
  },
  {
   "cell_type": "code",
   "execution_count": 90,
   "metadata": {},
   "outputs": [
    {
     "data": {
      "text/plain": [
       "[<matplotlib.lines.Line2D at 0x20cbdf120b8>]"
      ]
     },
     "execution_count": 90,
     "metadata": {},
     "output_type": "execute_result"
    },
    {
     "data": {
      "text/plain": [
       "Text(0.5, 0, 'FPR')"
      ]
     },
     "execution_count": 90,
     "metadata": {},
     "output_type": "execute_result"
    },
    {
     "data": {
      "text/plain": [
       "Text(0, 0.5, 'TPR(Recall)')"
      ]
     },
     "execution_count": 90,
     "metadata": {},
     "output_type": "execute_result"
    },
    {
     "data": {
      "text/plain": [
       "[<matplotlib.lines.Line2D at 0x20cbdf12208>]"
      ]
     },
     "execution_count": 90,
     "metadata": {},
     "output_type": "execute_result"
    },
    {
     "data": {
      "text/plain": [
       "<matplotlib.legend.Legend at 0x20cbdeb2160>"
      ]
     },
     "execution_count": 90,
     "metadata": {},
     "output_type": "execute_result"
    },
    {
     "data": {
      "image/png": "[encoded data removed]",
      "text/plain": [
       "<Figure size 432x288 with 1 Axes>"
      ]
     },
     "metadata": {
      "needs_background": "light"
     },
     "output_type": "display_data"
    }
   ],
   "source": [
    "from sklearn.metrics import roc_curve,auc\n",
    "yscore = rf.fit(Xtrain,ytrain).predict(Xtest)\n",
    "fpr,tpr,threshold = roc_curve(ytest,yscore)\n",
    "plt.plot(fpr, tpr,label = 'ROC Curve')\n",
    "plt.xlabel('FPR')\n",
    "plt.ylabel('TPR(Recall)')\n",
    "\n",
    "###最接近0的阈值\n",
    "close_zero = np.argmin(np.abs(threshold))\n",
    "plt.plot(fpr[close_zero], tpr[close_zero], 'o', markersize=10, label=\"threshold zero\", fillstyle=\"none\", c='k', mew=2)\n",
    "plt.legend(loc='best')"
   ]
  },
  {
   "cell_type": "markdown",
   "metadata": {},
   "source": [
    "### 模型五: Random Forest\n",
    "鉴于决策树容易过拟合的缺点，随机森林采用多个决策树的投票机制来改善决策树，我们假设随机森林使用了m棵决策树，那么就需要产生m个一定数量的样本集来训练每一棵树，如果用全样本去训练m棵决策树显然是不可取的，全样本训练忽视了局部样本的规律，对于模型的泛化能力是有害的。\n",
    "\n",
    "- 优点\n",
    " - 训练可以高度并行化，对于大数据时代的大样本训练速度有优势\n",
    " - 由于随机选择特征时只考虑特征子集，因此样本特征维度很高时仍然高效\n",
    " - 训练后，可以给出各个特征的重要性\n",
    " - 由于采用了随机采样，方差小，泛化能力强\n",
    "\n",
    "- 缺点\n",
    " - 在噪声较大的分类或者回归问题上会过拟合。"
   ]
  },
  {
   "cell_type": "code",
   "execution_count": 95,
   "metadata": {},
   "outputs": [
    {
     "data": {
      "text/plain": [
       "RandomForestClassifier()"
      ]
     },
     "execution_count": 95,
     "metadata": {},
     "output_type": "execute_result"
    }
   ],
   "source": [
    "from sklearn.ensemble import RandomForestClassifier\n",
    "rfc = RandomForestClassifier()\n",
    "rfc.fit(Xtrain,ytrain)"
   ]
  },
  {
   "cell_type": "code",
   "execution_count": 118,
   "metadata": {},
   "outputs": [
    {
     "name": "stdout",
     "output_type": "stream",
     "text": [
      "The accuracy of the Logistic Regression is: 1.0\n",
      "The accuracy of the Logistic Regression is: 0.8333333333333334\n",
      "The confusion matrix result:\n",
      " [[87 17]\n",
      " [ 9 43]]\n"
     ]
    },
    {
     "data": {
      "text/plain": [
       "<Figure size 576x432 with 0 Axes>"
      ]
     },
     "execution_count": 118,
     "metadata": {},
     "output_type": "execute_result"
    },
    {
     "data": {
      "text/plain": [
       "<matplotlib.axes._subplots.AxesSubplot at 0x20cbf734e48>"
      ]
     },
     "execution_count": 118,
     "metadata": {},
     "output_type": "execute_result"
    },
    {
     "data": {
      "text/plain": [
       "Text(0.5, 35.0, 'Predicted labels')"
      ]
     },
     "execution_count": 118,
     "metadata": {},
     "output_type": "execute_result"
    },
    {
     "data": {
      "text/plain": [
       "Text(53.0, 0.5, 'True labels')"
      ]
     },
     "execution_count": 118,
     "metadata": {},
     "output_type": "execute_result"
    },
    {
     "data": {
      "image/png": "[encoded data removed]",
      "text/plain": [
       "<Figure size 576x432 with 2 Axes>"
      ]
     },
     "metadata": {
      "needs_background": "light"
     },
     "output_type": "display_data"
    }
   ],
   "source": [
    "## 在训练集和测试集上分布利用训练好的模型进行预测\n",
    "train_predict = rfc.predict(Xtrain)\n",
    "test_predict = rfc.predict(Xtest)\n",
    "\n",
    "from sklearn import metrics\n",
    "\n",
    "## 利用accuracy（准确度）【预测正确的样本数目占总预测样本数目的比例】评估模型效果\n",
    "print('The accuracy of the Logistic Regression is:',metrics.accuracy_score(ytrain,train_predict))\n",
    "print('The accuracy of the Logistic Regression is:',metrics.accuracy_score(ytest,test_predict))\n",
    "\n",
    "## 查看混淆矩阵 (预测值和真实值的各类情况统计矩阵)\n",
    "confusion_matrix_result = metrics.confusion_matrix(test_predict,ytest)\n",
    "print('The confusion matrix result:\\n',confusion_matrix_result)\n",
    "\n",
    "# 利用热力图对于结果进行可视化\n",
    "plt.figure(figsize=(8, 6))\n",
    "sns.heatmap(confusion_matrix_result, annot=True, cmap='Blues')\n",
    "plt.xlabel('Predicted labels')\n",
    "plt.ylabel('True labels')\n",
    "plt.show()"
   ]
  },
  {
   "cell_type": "markdown",
   "metadata": {},
   "source": [
    "### 模式2：参数迭代"
   ]
  },
  {
   "cell_type": "markdown",
   "metadata": {},
   "source": [
    "### 模型六： GradientBoostingClassifier"
   ]
  },
  {
   "cell_type": "code",
   "execution_count": 114,
   "metadata": {},
   "outputs": [
    {
     "data": {
      "text/plain": [
       "[<matplotlib.lines.Line2D at 0x20cbf711710>]"
      ]
     },
     "execution_count": 114,
     "metadata": {},
     "output_type": "execute_result"
    },
    {
     "data": {
      "image/png": "[encoded data removed]",
      "text/plain": [
       "<Figure size 432x288 with 1 Axes>"
      ]
     },
     "metadata": {
      "needs_background": "light"
     },
     "output_type": "display_data"
    }
   ],
   "source": [
    "from sklearn.ensemble import GradientBoostingClassifier\n",
    "depth = [1, 2, 3, 4, 5, 6, 7, 8]\n",
    "scores = []\n",
    "for deep in depth:\n",
    "    gbc = GradientBoostingClassifier(n_estimators=100, max_depth=deep, random_state=0)\n",
    "    test_score = cross_val_score(gbc, Xtrain, ytrain, cv=10, scoring=\"precision\")\n",
    "    scores.append(np.mean(test_score))\n",
    "plt.plot(depth, scores)"
   ]
  },
  {
   "cell_type": "markdown",
   "metadata": {},
   "source": [
    "### 模型七： XGBClassifier\n",
    "XGBoost是一个优化的分布式梯度增强库，旨在实现高效，灵活和便携。 它在Gradient Boosting框架下实现机器学习算法。 XGBoost提供了并行树提升（也称为GBDT，GBM），可以快速准确地解决许多数据科学问题。\n",
    "- 优点\n",
    " - 一种新颖的用于处理稀疏数据的树学习算法。\n",
    " - 理论上合理的weighted quantile sketch过程使得能够在近似树学习中处理实例权重。\n",
    " - 引入一个新颖的稀疏感知（sparsity-aware）算法用于并行树学习；并行和分布式计算使学习更快，从而实现更快的模型探索。\n",
    " - 提出了一种有效地缓存感知块结构用于核外树学习。\n",
    " \n",
    "- 缺点\n",
    " - 调参困难"
   ]
  },
  {
   "cell_type": "code",
   "execution_count": 53,
   "metadata": {
    "scrolled": false
   },
   "outputs": [
    {
     "data": {
      "text/plain": [
       "[<matplotlib.lines.Line2D at 0x20cbc6da898>]"
      ]
     },
     "execution_count": 53,
     "metadata": {},
     "output_type": "execute_result"
    },
    {
     "data": {
      "image/png": "[encoded data removed]",
      "text/plain": [
       "<Figure size 720x432 with 1 Axes>"
      ]
     },
     "metadata": {
      "needs_background": "light"
     },
     "output_type": "display_data"
    }
   ],
   "source": [
    "from xgboost import XGBClassifier\n",
    "params = [1, 2, 3, 4, 5, 6]\n",
    "test_scores = []\n",
    "for param in params:\n",
    "    clf = XGBClassifier(max_depth=param)\n",
    "    test_score = cross_val_score(clf, Xtrain, ytrain, cv=10, scoring=\"precision\")\n",
    "    test_scores.append(np.mean(test_score))\n",
    "plt.plot(params, test_scores)"
   ]
  },
  {
   "cell_type": "markdown",
   "metadata": {},
   "source": [
    "### 模型八：Lightgbm（最爱之一）\n",
    "LightGBM可以看作是XGBoost的升级豪华版，在获得与XGBoost近似精度的同时，又提供了更快的训练速度与更少的内存消耗。正如其名字中的Light所蕴含的那样，LightGBM在大规模数据集上跑起来更加优雅轻盈，一经推出便成为各种数据竞赛中刷榜夺冠的神兵利器。\n",
    "\n",
    "- 优点：\n",
    " - 简单易用。提供了主流的Python\\C++\\R语言接口，用户可以轻松使用LightGBM建模并获得相当不错的效果；\n",
    " - 高效可扩展。在处理大规模数据集时高效迅速、高准确度，对内存等硬件资源要求不高；\n",
    " - 鲁棒性强。相较于深度学习模型不需要精细调参便能取得近似的效果；\n",
    " - LightGBM直接支持缺失值与类别特征，无需对数据额外进行特殊处理。\n",
    "\n",
    "- 缺点：\n",
    " - 相对于深度学习模型无法对时空位置建模，不能很好地捕获图像、语音、文本等高维数据；\n",
    " - 在拥有海量训练数据，并能找到合适的深度学习模型时，深度学习的精度可以遥遥领先LightGBM。\n"
   ]
  },
  {
   "cell_type": "code",
   "execution_count": 130,
   "metadata": {},
   "outputs": [
    {
     "data": {
      "text/plain": [
       "LGBMClassifier()"
      ]
     },
     "execution_count": 130,
     "metadata": {},
     "output_type": "execute_result"
    }
   ],
   "source": [
    "from lightgbm.sklearn import LGBMClassifier\n",
    "lgbm = LGBMClassifier()\n",
    "lgbm.fit(Xtrain,ytrain)"
   ]
  },
  {
   "cell_type": "code",
   "execution_count": 131,
   "metadata": {},
   "outputs": [
    {
     "name": "stdout",
     "output_type": "stream",
     "text": [
      "The accuracy of the Logistic Regression is: 0.987152034261242\n",
      "The accuracy of the Logistic Regression is: 0.8205128205128205\n",
      "The confusion matrix result:\n",
      " [[86 18]\n",
      " [10 42]]\n"
     ]
    },
    {
     "data": {
      "text/plain": [
       "<Figure size 576x432 with 0 Axes>"
      ]
     },
     "execution_count": 131,
     "metadata": {},
     "output_type": "execute_result"
    },
    {
     "data": {
      "text/plain": [
       "<matplotlib.axes._subplots.AxesSubplot at 0x20cbfc38128>"
      ]
     },
     "execution_count": 131,
     "metadata": {},
     "output_type": "execute_result"
    },
    {
     "data": {
      "text/plain": [
       "Text(0.5, 35.0, 'Predicted labels')"
      ]
     },
     "execution_count": 131,
     "metadata": {},
     "output_type": "execute_result"
    },
    {
     "data": {
      "text/plain": [
       "Text(53.0, 0.5, 'True labels')"
      ]
     },
     "execution_count": 131,
     "metadata": {},
     "output_type": "execute_result"
    },
    {
     "data": {
      "image/png": "[encoded data removed]",
      "text/plain": [
       "<Figure size 576x432 with 2 Axes>"
      ]
     },
     "metadata": {
      "needs_background": "light"
     },
     "output_type": "display_data"
    }
   ],
   "source": [
    "## 在训练集和测试集上分布利用训练好的模型进行预测\n",
    "train_predict = lgbm.predict(Xtrain)\n",
    "test_predict = lgbm.predict(Xtest)\n",
    "from sklearn import metrics\n",
    "\n",
    "## 利用accuracy（准确度）【预测正确的样本数目占总预测样本数目的比例】评估模型效果\n",
    "print('The accuracy of the Logistic Regression is:',metrics.accuracy_score(ytrain,train_predict))\n",
    "print('The accuracy of the Logistic Regression is:',metrics.accuracy_score(ytest,test_predict))\n",
    "\n",
    "## 查看混淆矩阵 (预测值和真实值的各类情况统计矩阵)\n",
    "confusion_matrix_result = metrics.confusion_matrix(test_predict,ytest)\n",
    "print('The confusion matrix result:\\n',confusion_matrix_result)\n",
    "\n",
    "# 利用热力图对于结果进行可视化\n",
    "plt.figure(figsize=(8, 6))\n",
    "sns.heatmap(confusion_matrix_result, annot=True, cmap='Blues')\n",
    "plt.xlabel('Predicted labels')\n",
    "plt.ylabel('True labels')\n",
    "plt.show()"
   ]
  },
  {
   "cell_type": "code",
   "execution_count": 132,
   "metadata": {},
   "outputs": [
    {
     "data": {
      "text/plain": [
       "<matplotlib.axes._subplots.AxesSubplot at 0x20cbfa38588>"
      ]
     },
     "execution_count": 132,
     "metadata": {},
     "output_type": "execute_result"
    },
    {
     "data": {
      "image/png": "[encoded data removed]",
      "text/plain": [
       "<Figure size 432x288 with 1 Axes>"
      ]
     },
     "metadata": {
      "needs_background": "light"
     },
     "output_type": "display_data"
    }
   ],
   "source": [
    "sns.barplot(y=data.columns, x=lgbm.feature_importances_)"
   ]
  },
  {
   "cell_type": "code",
   "execution_count": 133,
   "metadata": {
    "scrolled": false
   },
   "outputs": [
    {
     "data": {
      "image/png": "[encoded data removed]",
      "text/plain": [
       "<Figure size 432x288 with 1 Axes>"
      ]
     },
     "metadata": {
      "needs_background": "light"
     },
     "output_type": "display_data"
    },
    {
     "data": {
      "image/png": "[encoded data removed]",
      "text/plain": [
       "<Figure size 432x288 with 1 Axes>"
      ]
     },
     "metadata": {
      "needs_background": "light"
     },
     "output_type": "display_data"
    },
    {
     "name": "stdout",
     "output_type": "stream",
     "text": [
      "acc= 0.8205128205128205\n"
     ]
    }
   ],
   "source": [
    "from sklearn.metrics import accuracy_score\n",
    "from lightgbm import plot_importance\n",
    "\n",
    "def estimate(model,data):\n",
    "    \n",
    "    #sns.barplot(data.columns,model.feature_importances_)\n",
    "    ax1=plot_importance(model,importance_type=\"gain\")\n",
    "    ax1.set_title('gain')\n",
    "    ax2=plot_importance(model, importance_type=\"split\")\n",
    "    ax2.set_title('split')\n",
    "    plt.show()\n",
    "def classes(data,label,test):\n",
    "    model=LGBMClassifier()\n",
    "    model.fit(data,label)\n",
    "    ans=model.predict(test)\n",
    "    estimate(model, data)\n",
    "    return ans\n",
    " \n",
    "ans=classes(Xtrain,ytrain,Xtest)\n",
    "pre=accuracy_score(ytest, ans)\n",
    "print('acc=',accuracy_score(ytest,ans))"
   ]
  },
  {
   "cell_type": "markdown",
   "metadata": {},
   "source": [
    "### 模式3： 超参数调优\n",
    "- 网格搜索：\n",
    " - 一种微调的方法是手动调整超参数，找到一组很好的超参数值组合，不过没有那么多时间，效率低下，可以用sklear的GridSearchCV进行探索，告诉实验的超参数，代入值，将会用交叉验证评估超参数值的所有可能组合。\n",
    "\n",
    "- 随机搜索\n",
    " - 探索的组合数量较少可以用网格搜索，但超参数的搜索范围较大时，优先使用RandomizedSearchCV.\n",
    "\n",
    "区别：在每次迭代中每个超参数选择一个随机值，然后对一定数量的随机组合进行评估。"
   ]
  },
  {
   "cell_type": "code",
   "execution_count": 134,
   "metadata": {},
   "outputs": [
    {
     "name": "stdout",
     "output_type": "stream",
     "text": [
      "Fitting 3 folds for each of 108 candidates, totalling 324 fits\n"
     ]
    },
    {
     "name": "stderr",
     "output_type": "stream",
     "text": [
      "[Parallel(n_jobs=-1)]: Using backend LokyBackend with 8 concurrent workers.\n",
      "[Parallel(n_jobs=-1)]: Done  16 tasks      | elapsed:    0.1s\n",
      "[Parallel(n_jobs=-1)]: Done 309 out of 324 | elapsed:    2.2s remaining:    0.0s\n",
      "[Parallel(n_jobs=-1)]: Done 324 out of 324 | elapsed:    2.3s finished\n"
     ]
    }
   ],
   "source": [
    "## 从sklearn库中导入网格调参函数\n",
    "from sklearn.model_selection import GridSearchCV\n",
    "\n",
    "## 定义参数取值范围\n",
    "learning_rate = [0.1, 0.3, 0.6]\n",
    "feature_fraction = [0.5, 0.8, 1]\n",
    "num_leaves = [16, 32, 64]\n",
    "max_depth = [-1,3,5,8]\n",
    "\n",
    "parameters = { 'learning_rate': learning_rate,\n",
    "              'feature_fraction':feature_fraction,\n",
    "              'num_leaves': num_leaves,\n",
    "              'max_depth': max_depth}\n",
    "model = LGBMClassifier(n_estimators = 50)\n",
    "\n",
    "## 进行网格搜索\n",
    "lgbm = GridSearchCV(model, parameters, cv=3, scoring='accuracy',verbose=3, n_jobs=-1)\n",
    "lgbm = lgbm.fit(Xtrain, ytrain)"
   ]
  },
  {
   "cell_type": "code",
   "execution_count": 135,
   "metadata": {},
   "outputs": [
    {
     "data": {
      "text/plain": [
       "{'feature_fraction': 1, 'learning_rate': 0.1, 'max_depth': 3, 'num_leaves': 16}"
      ]
     },
     "execution_count": 135,
     "metadata": {},
     "output_type": "execute_result"
    }
   ],
   "source": [
    "lgbm.best_params_"
   ]
  },
  {
   "cell_type": "code",
   "execution_count": 138,
   "metadata": {
    "scrolled": false
   },
   "outputs": [
    {
     "data": {
      "text/plain": [
       "LGBMClassifier(feature_fraction=1, max_depth=3, num_leaves=16)"
      ]
     },
     "execution_count": 138,
     "metadata": {},
     "output_type": "execute_result"
    },
    {
     "name": "stdout",
     "output_type": "stream",
     "text": [
      "The accuracy of the Logistic Regression is: 0.9164882226980728\n",
      "The accuracy of the Logistic Regression is: 0.8397435897435898\n",
      "The confusion matrix result:\n",
      " [[89 18]\n",
      " [ 7 42]]\n"
     ]
    },
    {
     "data": {
      "text/plain": [
       "<Figure size 576x432 with 0 Axes>"
      ]
     },
     "execution_count": 138,
     "metadata": {},
     "output_type": "execute_result"
    },
    {
     "data": {
      "text/plain": [
       "<matplotlib.axes._subplots.AxesSubplot at 0x20cbf4074e0>"
      ]
     },
     "execution_count": 138,
     "metadata": {},
     "output_type": "execute_result"
    },
    {
     "data": {
      "text/plain": [
       "Text(0.5, 35.0, 'Predicted labels')"
      ]
     },
     "execution_count": 138,
     "metadata": {},
     "output_type": "execute_result"
    },
    {
     "data": {
      "text/plain": [
       "Text(53.0, 0.5, 'True labels')"
      ]
     },
     "execution_count": 138,
     "metadata": {},
     "output_type": "execute_result"
    },
    {
     "data": {
      "image/png": "[encoded data removed]",
      "text/plain": [
       "<Figure size 576x432 with 2 Axes>"
      ]
     },
     "metadata": {
      "needs_background": "light"
     },
     "output_type": "display_data"
    }
   ],
   "source": [
    "## 在训练集和测试集上分布利用最好的模型参数进行预测\n",
    "## 定义带参数的 LightGBM模型 \n",
    "lgbm = LGBMClassifier(feature_fraction = 1,\n",
    "                    learning_rate = 0.1,\n",
    "                    max_depth= 3,\n",
    "                    num_leaves = 16)\n",
    "# 在训练集上训练LightGBM模型\n",
    "lgbm.fit(Xtrain, ytrain)\n",
    "\n",
    "train_predict = lgbm.predict(Xtrain)\n",
    "test_predict = lgbm.predict(Xtest)\n",
    "\n",
    "## 利用accuracy（准确度）【预测正确的样本数目占总预测样本数目的比例】评估模型效果\n",
    "print('The accuracy of the Logistic Regression is:',metrics.accuracy_score(ytrain,train_predict))\n",
    "print('The accuracy of the Logistic Regression is:',metrics.accuracy_score(ytest,test_predict))\n",
    "\n",
    "## 查看混淆矩阵 (预测值和真实值的各类情况统计矩阵)\n",
    "confusion_matrix_result = metrics.confusion_matrix(test_predict,ytest)\n",
    "print('The confusion matrix result:\\n',confusion_matrix_result)\n",
    "\n",
    "# 利用热力图对于结果进行可视化\n",
    "plt.figure(figsize=(8, 6))\n",
    "sns.heatmap(confusion_matrix_result, annot=True, cmap='Blues')\n",
    "plt.xlabel('Predicted labels')\n",
    "plt.ylabel('True labels')\n",
    "plt.show()"
   ]
  },
  {
   "cell_type": "markdown",
   "metadata": {},
   "source": [
    "### 综上小结\n",
    "1. 模型参数在训练集的分数为1.0的存在过拟合，即将所有数据进行代入，但是测试集的分数并不理想。\n",
    "2. 模型的参数很多，在数据集带入模型之前就找出超参数更好的拟合数据。\n",
    "3. 这次案例的数据集很小，主要应用几种算法熟悉过程及基本的逻辑应用。"
   ]
  },
  {
   "cell_type": "markdown",
   "metadata": {},
   "source": [
    "### 参考文献：\n",
    "https://chenk.tech/posts/c65daabc.html#\n",
    "\n",
    "https://blog.csdn.net/evenson1/article/details/108242786\n",
    "\n",
    "https://www.kaggle.com/nadintamer/titanic-survival-predictions-beginner\n",
    "\n",
    "https://blog.csdn.net/weixin_42211626/article/details/100064842\n",
    "\n",
    "https://www.cnblogs.com/mfryf/p/6276943.html\n",
    "\n",
    "https://blog.csdn.net/ddydavie/article/details/82687522\n",
    "\n",
    "https://www.cnblogs.com/Lin-Yi/p/8971348.html\n",
    "\n",
    "https://blog.csdn.net/xyz1584172808/article/details/81839230\n",
    "\n",
    "https://blog.csdn.net/han_xiaoyang/article/details/52663170\n",
    "\n",
    "https://blog.csdn.net/yinyu19950811/article/details/81079192\n",
    "\n",
    "《机器学习》  《Python数据科学手册》等……"
   ]
  }
 ],
 "metadata": {
  "kernelspec": {
   "display_name": "Python 3",
   "language": "python",
   "name": "python3"
  },
  "language_info": {
   "codemirror_mode": {
    "name": "ipython",
    "version": 3
   },
   "file_extension": ".py",
   "mimetype": "text/x-python",
   "name": "python",
   "nbconvert_exporter": "python",
   "pygments_lexer": "ipython3",
   "version": "3.7.3"
  }
 },
 "nbformat": 4,
 "nbformat_minor": 4
}
